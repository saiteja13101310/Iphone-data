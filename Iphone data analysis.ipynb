{
 "cells": [
  {
   "cell_type": "code",
   "execution_count": 0,
   "metadata": {
    "application/vnd.databricks.v1+cell": {
     "cellMetadata": {
      "byteLimit": 2048000,
      "rowLimit": 10000
     },
     "inputWidgets": {},
     "nuid": "0539fedc-b041-4b9e-a043-f69ea0bcd0da",
     "showTitle": false,
     "title": ""
    }
   },
   "outputs": [],
   "source": [
    "/FileStore/tables/apple_products.csv"
   ]
  },
  {
   "cell_type": "code",
   "execution_count": 0,
   "metadata": {
    "application/vnd.databricks.v1+cell": {
     "cellMetadata": {
      "byteLimit": 2048000,
      "rowLimit": 10000
     },
     "inputWidgets": {},
     "nuid": "5c3cf886-571e-41a8-8daa-98bd45f099a8",
     "showTitle": false,
     "title": ""
    }
   },
   "outputs": [],
   "source": [
    "df= spark.read.format(\"csv\").option(\"header\",\"true\").option(\"inferSchema\",\"true\").load(\"/FileStore/tables/apple_products.csv\")"
   ]
  },
  {
   "cell_type": "code",
   "execution_count": 0,
   "metadata": {
    "application/vnd.databricks.v1+cell": {
     "cellMetadata": {
      "byteLimit": 2048000,
      "rowLimit": 10000
     },
     "inputWidgets": {},
     "nuid": "20f244a2-3406-4a68-8f5d-673088d39885",
     "showTitle": false,
     "title": ""
    }
   },
   "outputs": [
    {
     "output_type": "stream",
     "name": "stdout",
     "output_type": "stream",
     "text": [
      "+--------------------+--------------------+-----+----------+-----+-------------------+-----------------+-----------------+----------------+-----------+----+\n|        Product Name|         Product URL|Brand|Sale Price|  Mrp|Discount Percentage|Number Of Ratings|Number Of Reviews|             Upc|Star Rating| Ram|\n+--------------------+--------------------+-----+----------+-----+-------------------+-----------------+-----------------+----------------+-----------+----+\n|APPLE iPhone 8 Pl...|https://www.flipk...|Apple|     49900|49900|                  0|             3431|              356|MOBEXRGV7EHHTGUH|        4.6|2 GB|\n|APPLE iPhone 8 Pl...|https://www.flipk...|Apple|     84900|84900|                  0|             3431|              356|MOBEXRGVAC6TJT4F|        4.6|2 GB|\n|APPLE iPhone 8 Pl...|https://www.flipk...|Apple|     84900|84900|                  0|             3431|              356|MOBEXRGVGETABXWZ|        4.6|2 GB|\n+--------------------+--------------------+-----+----------+-----+-------------------+-----------------+-----------------+----------------+-----------+----+\nonly showing top 3 rows\n\n"
     ]
    }
   ],
   "source": [
    "df.show(3)"
   ]
  },
  {
   "cell_type": "code",
   "execution_count": 0,
   "metadata": {
    "application/vnd.databricks.v1+cell": {
     "cellMetadata": {
      "byteLimit": 2048000,
      "rowLimit": 10000
     },
     "inputWidgets": {},
     "nuid": "2c6b9d01-6968-4ea7-8f63-039d2fd814ec",
     "showTitle": false,
     "title": ""
    }
   },
   "outputs": [
    {
     "output_type": "stream",
     "name": "stdout",
     "output_type": "stream",
     "text": [
      "root\n |-- Product Name: string (nullable = true)\n |-- Product URL: string (nullable = true)\n |-- Brand: string (nullable = true)\n |-- Sale Price: integer (nullable = true)\n |-- Mrp: integer (nullable = true)\n |-- Discount Percentage: integer (nullable = true)\n |-- Number Of Ratings: integer (nullable = true)\n |-- Number Of Reviews: integer (nullable = true)\n |-- Upc: string (nullable = true)\n |-- Star Rating: double (nullable = true)\n |-- Ram: string (nullable = true)\n\n"
     ]
    }
   ],
   "source": [
    "df.printSchema()"
   ]
  },
  {
   "cell_type": "code",
   "execution_count": 0,
   "metadata": {
    "application/vnd.databricks.v1+cell": {
     "cellMetadata": {
      "byteLimit": 2048000,
      "rowLimit": 10000
     },
     "inputWidgets": {},
     "nuid": "38318597-3ffa-493b-8277-42ca46de8abb",
     "showTitle": false,
     "title": ""
    }
   },
   "outputs": [
    {
     "output_type": "stream",
     "name": "stdout",
     "output_type": "stream",
     "text": [
      "Out[6]: 62"
     ]
    }
   ],
   "source": [
    "df.count()"
   ]
  },
  {
   "cell_type": "code",
   "execution_count": 0,
   "metadata": {
    "application/vnd.databricks.v1+cell": {
     "cellMetadata": {
      "byteLimit": 2048000,
      "rowLimit": 10000
     },
     "inputWidgets": {},
     "nuid": "862b7223-f95b-4d1f-bea2-edd50375659a",
     "showTitle": false,
     "title": ""
    }
   },
   "outputs": [
    {
     "output_type": "stream",
     "name": "stdout",
     "output_type": "stream",
     "text": [
      "+----------+\n|Sale Price|\n+----------+\n|     49900|\n|     84900|\n|     84900|\n|     77000|\n|     77000|\n+----------+\nonly showing top 5 rows\n\n"
     ]
    }
   ],
   "source": [
    "df.select(\"Sale Price\").show(5)"
   ]
  },
  {
   "cell_type": "code",
   "execution_count": 0,
   "metadata": {
    "application/vnd.databricks.v1+cell": {
     "cellMetadata": {
      "byteLimit": 2048000,
      "rowLimit": 10000
     },
     "inputWidgets": {},
     "nuid": "b1acb903-df21-49fd-a624-65ee7357b1df",
     "showTitle": false,
     "title": ""
    }
   },
   "outputs": [],
   "source": [
    "from pyspark.sql.functions import col\n",
    "from pyspark.sql.functions import *"
   ]
  },
  {
   "cell_type": "code",
   "execution_count": 0,
   "metadata": {
    "application/vnd.databricks.v1+cell": {
     "cellMetadata": {
      "byteLimit": 2048000,
      "rowLimit": 10000
     },
     "inputWidgets": {},
     "nuid": "a519f867-6753-4a3b-9bbe-4ccfbacdb694",
     "showTitle": false,
     "title": ""
    }
   },
   "outputs": [
    {
     "output_type": "stream",
     "name": "stdout",
     "output_type": "stream",
     "text": [
      "+---------------+\n|max(Sale Price)|\n+---------------+\n|         140900|\n+---------------+\n\nroot\n |-- Product Name: string (nullable = true)\n |-- Product URL: string (nullable = true)\n |-- Brand: string (nullable = true)\n |-- Sale Price: integer (nullable = true)\n |-- Mrp: integer (nullable = true)\n |-- Discount Percentage: integer (nullable = true)\n |-- Number Of Ratings: integer (nullable = true)\n |-- Number Of Reviews: integer (nullable = true)\n |-- Upc: string (nullable = true)\n |-- Star Rating: double (nullable = true)\n |-- Ram: string (nullable = true)\n\n+--------+\n|max(Mrp)|\n+--------+\n|  149900|\n+--------+\n\n+--------+\n|min(Mrp)|\n+--------+\n|   39900|\n+--------+\n\n"
     ]
    }
   ],
   "source": [
    "df.select(max(col(\"Sale Price\"))).show()\n",
    "df.printSchema()\n",
    "df.select(max(col(\"Mrp\"))).show()\n",
    "df.select(min(col(\"Mrp\"))).show()"
   ]
  },
  {
   "cell_type": "code",
   "execution_count": 0,
   "metadata": {
    "application/vnd.databricks.v1+cell": {
     "cellMetadata": {
      "byteLimit": 2048000,
      "rowLimit": 10000
     },
     "inputWidgets": {},
     "nuid": "e0121929-1ba4-44da-ae10-5d1a4fbccb34",
     "showTitle": false,
     "title": ""
    }
   },
   "outputs": [
    {
     "output_type": "stream",
     "name": "stdout",
     "output_type": "stream",
     "text": [
      "+--------------------+--------------------+-----+----------+-----+-------------------+-----------------+-----------------+----------------+-----------+----+\n|        Product Name|         Product URL|Brand|Sale Price|  Mrp|Discount Percentage|Number Of Ratings|Number Of Reviews|             Upc|Star Rating| Ram|\n+--------------------+--------------------+-----+----------+-----+-------------------+-----------------+-----------------+----------------+-----------+----+\n|APPLE iPhone 8 Pl...|https://www.flipk...|Apple|     49900|49900|                  0|             3431|              356|MOBEXRGV7EHHTGUH|        4.6|2 GB|\n|APPLE iPhone 8 Pl...|https://www.flipk...|Apple|     84900|84900|                  0|             3431|              356|MOBEXRGVAC6TJT4F|        4.6|2 GB|\n|APPLE iPhone 8 Pl...|https://www.flipk...|Apple|     84900|84900|                  0|             3431|              356|MOBEXRGVGETABXWZ|        4.6|2 GB|\n|APPLE iPhone 8 (S...|https://www.flipk...|Apple|     77000|77000|                  0|            11202|              794|MOBEXRGVMZWUHCBA|        4.5|2 GB|\n|APPLE iPhone 8 (G...|https://www.flipk...|Apple|     77000|77000|                  0|            11202|              794|MOBEXRGVPK7PFEJZ|        4.5|2 GB|\n|APPLE iPhone 8 Pl...|https://www.flipk...|Apple|     49900|49900|                  0|             3431|              356|MOBEXRGVQGYYP8FV|        4.6|2 GB|\n+--------------------+--------------------+-----+----------+-----+-------------------+-----------------+-----------------+----------------+-----------+----+\nonly showing top 6 rows\n\n"
     ]
    }
   ],
   "source": [
    "df.show(6)"
   ]
  },
  {
   "cell_type": "code",
   "execution_count": 0,
   "metadata": {
    "application/vnd.databricks.v1+cell": {
     "cellMetadata": {
      "byteLimit": 2048000,
      "rowLimit": 10000
     },
     "inputWidgets": {},
     "nuid": "77ddaabb-bf84-4d41-b9d3-fb1c6851d1f2",
     "showTitle": false,
     "title": ""
    }
   },
   "outputs": [
    {
     "output_type": "stream",
     "name": "stdout",
     "output_type": "stream",
     "text": [
      "+----------+\n|Sale Price|\n+----------+\n|     49900|\n+----------+\nonly showing top 1 row\n\n+-----+\n|  Mrp|\n+-----+\n|49900|\n+-----+\nonly showing top 1 row\n\n"
     ]
    }
   ],
   "source": [
    "df.select(\"Sale Price\").show(1)\n",
    "df.select(\"Mrp\").show(1)"
   ]
  },
  {
   "cell_type": "code",
   "execution_count": 0,
   "metadata": {
    "application/vnd.databricks.v1+cell": {
     "cellMetadata": {
      "byteLimit": 2048000,
      "rowLimit": 10000
     },
     "inputWidgets": {},
     "nuid": "a4440872-aa8a-4685-a3d5-e136556c0786",
     "showTitle": false,
     "title": ""
    }
   },
   "outputs": [
    {
     "output_type": "stream",
     "name": "stdout",
     "output_type": "stream",
     "text": [
      "+--------------------+--------------------+-----+----------+-----+-------------------+-----------------+-----------------+----------------+-----------+----+\n|        Product Name|         Product URL|Brand|Sale Price|  Mrp|Discount Percentage|Number Of Ratings|Number Of Reviews|             Upc|Star Rating| Ram|\n+--------------------+--------------------+-----+----------+-----+-------------------+-----------------+-----------------+----------------+-----------+----+\n|APPLE iPhone 8 Pl...|https://www.flipk...|Apple|     49900|49900|                  0|             3431|              356|MOBEXRGV7EHHTGUH|        4.6|2 GB|\n|APPLE iPhone 8 Pl...|https://www.flipk...|Apple|     49900|49900|                  0|             3431|              356|MOBEXRGVQGYYP8FV|        4.6|2 GB|\n|APPLE iPhone 8 Pl...|https://www.flipk...|Apple|     49900|49900|                  0|             3431|              356|MOBEXRGVQKBREZP8|        4.6|2 GB|\n+--------------------+--------------------+-----+----------+-----+-------------------+-----------------+-----------------+----------------+-----------+----+\n\n+--------------------+--------------------+-----+----------+------+-------------------+-----------------+-----------------+----------------+-----------+----+\n|        Product Name|         Product URL|Brand|Sale Price|   Mrp|Discount Percentage|Number Of Ratings|Number Of Reviews|             Upc|Star Rating| Ram|\n+--------------------+--------------------+-----+----------+------+-------------------+-----------------+-----------------+----------------+-----------+----+\n|APPLE iPhone 12 P...|https://www.flipk...|Apple|    140900|149900|                  6|              542|               42|MOBFWBYZ5UY6ZBVA|        4.5|4 GB|\n|APPLE iPhone 12 P...|https://www.flipk...|Apple|    140900|149900|                  6|              545|               42|MOBFWBYZTHSXKMGW|        4.5|4 GB|\n+--------------------+--------------------+-----+----------+------+-------------------+-----------------+-----------------+----------------+-----------+----+\n\n"
     ]
    }
   ],
   "source": [
    "df.where(\"Mrp =49900\").show()\n",
    "\n",
    "df.where(\"Mrp =149900\").show()"
   ]
  },
  {
   "cell_type": "code",
   "execution_count": 0,
   "metadata": {
    "application/vnd.databricks.v1+cell": {
     "cellMetadata": {
      "byteLimit": 2048000,
      "rowLimit": 10000
     },
     "inputWidgets": {},
     "nuid": "3e2b7753-0ade-460f-a79b-315bc678f48f",
     "showTitle": false,
     "title": ""
    }
   },
   "outputs": [
    {
     "output_type": "stream",
     "name": "stdout",
     "output_type": "stream",
     "text": [
      "+--------------------+--------------------+-----+----------+-----+-------------------+-----------------+-----------------+----------------+-----------+----+\n|        Product Name|         Product URL|Brand|Sale Price|  Mrp|Discount Percentage|Number Of Ratings|Number Of Reviews|             Upc|Star Rating| Ram|\n+--------------------+--------------------+-----+----------+-----+-------------------+-----------------+-----------------+----------------+-----------+----+\n|APPLE iPhone 8 Pl...|https://www.flipk...|Apple|     84900|84900|                  0|             3431|              356|MOBEXRGVAC6TJT4F|        4.6|2 GB|\n|APPLE iPhone 8 Pl...|https://www.flipk...|Apple|     84900|84900|                  0|             3431|              356|MOBEXRGVGETABXWZ|        4.6|2 GB|\n|APPLE iPhone 8 (S...|https://www.flipk...|Apple|     77000|77000|                  0|            11202|              794|MOBEXRGVMZWUHCBA|        4.5|2 GB|\n|APPLE iPhone 8 (G...|https://www.flipk...|Apple|     77000|77000|                  0|            11202|              794|MOBEXRGVPK7PFEJZ|        4.5|2 GB|\n|APPLE iPhone 8 (S...|https://www.flipk...|Apple|     77000|77000|                  0|            11202|              794|MOBEXRGVZFZGZEWV|        4.5|2 GB|\n|APPLE iPhone XS M...|https://www.flipk...|Apple|     89900|89900|                  0|             1454|              149|MOBF944E2XAHW8V5|        4.6|4 GB|\n+--------------------+--------------------+-----+----------+-----+-------------------+-----------------+-----------------+----------------+-----------+----+\nonly showing top 6 rows\n\n"
     ]
    }
   ],
   "source": [
    "df.where(\"Mrp >49900\").show(6)"
   ]
  },
  {
   "cell_type": "code",
   "execution_count": 0,
   "metadata": {
    "application/vnd.databricks.v1+cell": {
     "cellMetadata": {
      "byteLimit": 2048000,
      "rowLimit": 10000
     },
     "inputWidgets": {},
     "nuid": "d99265b1-7389-4c2d-91a8-7ca9f2712180",
     "showTitle": false,
     "title": ""
    }
   },
   "outputs": [],
   "source": [
    "#creating view so that we use Spark Sql\n",
    "\n",
    "df.createOrReplaceTempView(\"Apple\")"
   ]
  },
  {
   "cell_type": "code",
   "execution_count": 0,
   "metadata": {
    "application/vnd.databricks.v1+cell": {
     "cellMetadata": {
      "byteLimit": 2048000,
      "implicitDf": true,
      "rowLimit": 10000
     },
     "inputWidgets": {},
     "nuid": "200b8f23-1fc4-4a39-949e-098c81693a42",
     "showTitle": false,
     "title": ""
    }
   },
   "outputs": [
    {
     "output_type": "display_data",
     "data": {
      "text/html": [
       "<style scoped>\n",
       "  .table-result-container {\n",
       "    max-height: 300px;\n",
       "    overflow: auto;\n",
       "  }\n",
       "  table, th, td {\n",
       "    border: 1px solid black;\n",
       "    border-collapse: collapse;\n",
       "  }\n",
       "  th, td {\n",
       "    padding: 5px;\n",
       "  }\n",
       "  th {\n",
       "    text-align: left;\n",
       "  }\n",
       "</style><div class='table-result-container'><table class='table-result'><thead style='background-color: white'><tr><th>Product Name</th><th>Product URL</th><th>Brand</th><th>Sale Price</th><th>Mrp</th><th>Discount Percentage</th><th>Number Of Ratings</th><th>Number Of Reviews</th><th>Upc</th><th>Star Rating</th><th>Ram</th></tr></thead><tbody><tr><td>APPLE iPhone 8 Plus (Gold, 64 GB)</td><td>https://www.flipkart.com/apple-iphone-8-plus-gold-64-gb/p/itmexrgvuzgzttzh?pid=MOBEXRGV7EHHTGUH</td><td>Apple</td><td>49900</td><td>49900</td><td>0</td><td>3431</td><td>356</td><td>MOBEXRGV7EHHTGUH</td><td>4.6</td><td>2 GB</td></tr><tr><td>APPLE iPhone 8 Plus (Space Grey, 256 GB)</td><td>https://www.flipkart.com/apple-iphone-8-plus-space-grey-256-gb/p/itmexrgvzkbyqgtf?pid=MOBEXRGVAC6TJT4F</td><td>Apple</td><td>84900</td><td>84900</td><td>0</td><td>3431</td><td>356</td><td>MOBEXRGVAC6TJT4F</td><td>4.6</td><td>2 GB</td></tr><tr><td>APPLE iPhone 8 Plus (Silver, 256 GB)</td><td>https://www.flipkart.com/apple-iphone-8-plus-silver-256-gb/p/itmexrgvxatuyrqw?pid=MOBEXRGVGETABXWZ</td><td>Apple</td><td>84900</td><td>84900</td><td>0</td><td>3431</td><td>356</td><td>MOBEXRGVGETABXWZ</td><td>4.6</td><td>2 GB</td></tr><tr><td>APPLE iPhone 8 (Silver, 256 GB)</td><td>https://www.flipkart.com/apple-iphone-8-silver-256-gb/p/itmexrgvae48gzhp?pid=MOBEXRGVMZWUHCBA</td><td>Apple</td><td>77000</td><td>77000</td><td>0</td><td>11202</td><td>794</td><td>MOBEXRGVMZWUHCBA</td><td>4.5</td><td>2 GB</td></tr><tr><td>APPLE iPhone 8 (Gold, 256 GB)</td><td>https://www.flipkart.com/apple-iphone-8-gold-256-gb/p/itmexrgv8bvfbzgw?pid=MOBEXRGVPK7PFEJZ</td><td>Apple</td><td>77000</td><td>77000</td><td>0</td><td>11202</td><td>794</td><td>MOBEXRGVPK7PFEJZ</td><td>4.5</td><td>2 GB</td></tr><tr><td>APPLE iPhone 8 Plus (Silver, 64 GB)</td><td>https://www.flipkart.com/apple-iphone-8-plus-silver-64-gb/p/itmexrgv7yfjbryy?pid=MOBEXRGVQGYYP8FV</td><td>Apple</td><td>49900</td><td>49900</td><td>0</td><td>3431</td><td>356</td><td>MOBEXRGVQGYYP8FV</td><td>4.6</td><td>2 GB</td></tr><tr><td>APPLE iPhone 8 Plus (Space Grey, 64 GB)</td><td>https://www.flipkart.com/apple-iphone-8-plus-space-grey-64-gb/p/itmexrgvehtzhh9v?pid=MOBEXRGVQKBREZP8</td><td>Apple</td><td>49900</td><td>49900</td><td>0</td><td>3431</td><td>356</td><td>MOBEXRGVQKBREZP8</td><td>4.6</td><td>2 GB</td></tr><tr><td>APPLE iPhone 8 (Space Grey, 256 GB)</td><td>https://www.flipkart.com/apple-iphone-8-space-grey-256-gb/p/itmexrgvypzqw6df?pid=MOBEXRGVZFZGZEWV</td><td>Apple</td><td>77000</td><td>77000</td><td>0</td><td>11202</td><td>794</td><td>MOBEXRGVZFZGZEWV</td><td>4.5</td><td>2 GB</td></tr><tr><td>APPLE iPhone XS Max (Silver, 64 GB)</td><td>https://www.flipkart.com/apple-iphone-xs-max-silver-64-gb/p/itmf944ehzsh7emx?pid=MOBF944E2XAHW8V5</td><td>Apple</td><td>89900</td><td>89900</td><td>0</td><td>1454</td><td>149</td><td>MOBF944E2XAHW8V5</td><td>4.6</td><td>4 GB</td></tr><tr><td>Apple iPhone XR ((PRODUCT)RED, 128 GB) (Includes EarPods, Power Adapter)</td><td>https://www.flipkart.com/apple-iphone-xr-product-red-128-gb-includes-earpods-power-adapter/p/itmf9z7zbkvjzegf?pid=MOBF9Z7ZHQC23PWQ</td><td>Apple</td><td>41999</td><td>52900</td><td>20</td><td>79512</td><td>6796</td><td>MOBF9Z7ZHQC23PWQ</td><td>4.6</td><td>4 GB</td></tr><tr><td>Apple iPhone XR (Black, 64 GB) (Includes EarPods, Power Adapter)</td><td>https://www.flipkart.com/apple-iphone-xr-black-64-gb-includes-earpods-power-adapter/p/itmf9z7zxu4uqyz2?pid=MOBF9Z7ZPHGV4GNH</td><td>Apple</td><td>39999</td><td>47900</td><td>16</td><td>79512</td><td>6796</td><td>MOBF9Z7ZPHGV4GNH</td><td>4.6</td><td>4 GB</td></tr><tr><td>Apple iPhone XR (Coral, 128 GB) (Includes EarPods, Power Adapter)</td><td>https://www.flipkart.com/apple-iphone-xr-coral-128-gb-includes-earpods-power-adapter/p/itmf9z7zgxx5wgez?pid=MOBF9Z7ZS6GF5UAP</td><td>Apple</td><td>41999</td><td>52900</td><td>20</td><td>79582</td><td>6804</td><td>MOBF9Z7ZS6GF5UAP</td><td>4.6</td><td>4 GB</td></tr><tr><td>Apple iPhone XR (Black, 128 GB) (Includes EarPods, Power Adapter)</td><td>https://www.flipkart.com/apple-iphone-xr-black-128-gb-includes-earpods-power-adapter/p/itmf9z7zhdgzwmzm?pid=MOBF9Z7ZYWNFGZUC</td><td>Apple</td><td>41999</td><td>52900</td><td>20</td><td>79512</td><td>6796</td><td>MOBF9Z7ZYWNFGZUC</td><td>4.6</td><td>3 GB</td></tr><tr><td>Apple iPhone XR (White, 128 GB) (Includes EarPods, Power Adapter)</td><td>https://www.flipkart.com/apple-iphone-xr-white-128-gb-includes-earpods-power-adapter/p/itmf9z7zrz4tbhwm?pid=MOBF9Z7ZZY3HCDZZ</td><td>Apple</td><td>41999</td><td>52900</td><td>20</td><td>79512</td><td>6796</td><td>MOBF9Z7ZZY3HCDZZ</td><td>4.6</td><td>4 GB</td></tr><tr><td>APPLE iPhone 11 Pro Max (Gold, 256 GB)</td><td>https://www.flipkart.com/apple-iphone-11-pro-max-gold-256-gb/p/itm94c6536eefc46?pid=MOBFKCTS7HCHSPFH</td><td>Apple</td><td>131900</td><td>131900</td><td>0</td><td>1078</td><td>101</td><td>MOBFKCTS7HCHSPFH</td><td>4.7</td><td>4 GB</td></tr><tr><td>APPLE iPhone 11 Pro Max (Gold, 64 GB)</td><td>https://www.flipkart.com/apple-iphone-11-pro-max-gold-64-gb/p/itm6ef18218efdf6?pid=MOBFKCTSAPAYNSGG</td><td>Apple</td><td>117100</td><td>117100</td><td>0</td><td>1078</td><td>101</td><td>MOBFKCTSAPAYNSGG</td><td>4.7</td><td>4 GB</td></tr><tr><td>APPLE iPhone 11 Pro Max (Midnight Green, 256 GB)</td><td>https://www.flipkart.com/apple-iphone-11-pro-max-midnight-green-256-gb/p/itm68e0db18f9ecc?pid=MOBFKCTSCAAKGQV7</td><td>Apple</td><td>131900</td><td>131900</td><td>0</td><td>1078</td><td>101</td><td>MOBFKCTSCAAKGQV7</td><td>4.7</td><td>4 GB</td></tr><tr><td>APPLE iPhone 11 Pro Max (Space Grey, 64 GB)</td><td>https://www.flipkart.com/apple-iphone-11-pro-max-space-grey-64-gb/p/itme0101031155f8?pid=MOBFKCTSKDMKCGQS</td><td>Apple</td><td>117100</td><td>117100</td><td>0</td><td>1078</td><td>101</td><td>MOBFKCTSKDMKCGQS</td><td>4.7</td><td>4 GB</td></tr><tr><td>APPLE iPhone 11 Pro (Midnight Green, 64 GB)</td><td>https://www.flipkart.com/apple-iphone-11-pro-midnight-green-64-gb/p/itm471de0d2e8474?pid=MOBFKCTSN3TG3RFJ</td><td>Apple</td><td>74999</td><td>106600</td><td>29</td><td>7088</td><td>523</td><td>MOBFKCTSN3TG3RFJ</td><td>4.6</td><td>4 GB</td></tr><tr><td>APPLE iPhone 11 Pro (Space Grey, 512 GB)</td><td>https://www.flipkart.com/apple-iphone-11-pro-space-grey-512-gb/p/itmcd1f0ddbf1c21?pid=MOBFKCTSRTHRQTFT</td><td>Apple</td><td>117900</td><td>140300</td><td>15</td><td>7088</td><td>523</td><td>MOBFKCTSRTHRQTFT</td><td>4.6</td><td>4 GB</td></tr><tr><td>APPLE iPhone 11 Pro Max (Midnight Green, 64 GB)</td><td>https://www.flipkart.com/apple-iphone-11-pro-max-midnight-green-64-gb/p/itmab1763b5ca244?pid=MOBFKCTSRYPAQNYT</td><td>Apple</td><td>117100</td><td>117100</td><td>0</td><td>1078</td><td>101</td><td>MOBFKCTSRYPAQNYT</td><td>4.7</td><td>4 GB</td></tr><tr><td>APPLE iPhone 11 Pro (Midnight Green, 512 GB)</td><td>https://www.flipkart.com/apple-iphone-11-pro-midnight-green-512-gb/p/itm0bdd954387ca9?pid=MOBFKCTSSJCWYGCC</td><td>Apple</td><td>117900</td><td>140300</td><td>15</td><td>7088</td><td>523</td><td>MOBFKCTSSJCWYGCC</td><td>4.6</td><td>4 GB</td></tr><tr><td>APPLE iPhone 11 Pro (Space Grey, 256 GB)</td><td>https://www.flipkart.com/apple-iphone-11-pro-space-grey-256-gb/p/itmbecef22a95790?pid=MOBFKCTSWGYSAS9X</td><td>Apple</td><td>99900</td><td>121300</td><td>17</td><td>7081</td><td>522</td><td>MOBFKCTSWGYSAS9X</td><td>4.6</td><td>4 GB</td></tr><tr><td>Apple iPhone SE (White, 256 GB) (Includes EarPods, Power Adapter)</td><td>https://www.flipkart.com/apple-iphone-se-white-256-gb-includes-earpods-power-adapter/p/itm4d73793c30c4c?pid=MOBFRFXHPZCHAPEH</td><td>Apple</td><td>44999</td><td>54900</td><td>18</td><td>95909</td><td>8161</td><td>MOBFRFXHPZCHAPEH</td><td>4.5</td><td>2 GB</td></tr><tr><td>APPLE iPhone 12 Pro (Silver, 512 GB)</td><td>https://www.flipkart.com/apple-iphone-12-pro-silver-512-gb/p/itm0ccf9fc219a71?pid=MOBFWBYZ5UY6ZBVA</td><td>Apple</td><td>140900</td><td>149900</td><td>6</td><td>542</td><td>42</td><td>MOBFWBYZ5UY6ZBVA</td><td>4.5</td><td>4 GB</td></tr><tr><td>APPLE iPhone 12 Pro Max (Pacific Blue, 256 GB)</td><td>https://www.flipkart.com/apple-iphone-12-pro-max-pacific-blue-256-gb/p/itm3a0860c94250e?pid=MOBFWBYZ8STJXCVT</td><td>Apple</td><td>130900</td><td>139900</td><td>6</td><td>580</td><td>45</td><td>MOBFWBYZ8STJXCVT</td><td>4.6</td><td>6 GB</td></tr><tr><td>APPLE iPhone 12 Mini (White, 128 GB)</td><td>https://www.flipkart.com/apple-iphone-12-mini-white-128-gb/p/itm9098fa76548ba?pid=MOBFWBYZAGXJRDGB</td><td>Apple</td><td>64900</td><td>74900</td><td>13</td><td>740</td><td>64</td><td>MOBFWBYZAGXJRDGB</td><td>4.5</td><td>4 GB</td></tr><tr><td>APPLE iPhone 12 Pro (Graphite, 256 GB)</td><td>https://www.flipkart.com/apple-iphone-12-pro-graphite-256-gb/p/itm4fa4da575698c?pid=MOBFWBYZBA36UB7G</td><td>Apple</td><td>120900</td><td>129900</td><td>6</td><td>545</td><td>42</td><td>MOBFWBYZBA36UB7G</td><td>4.5</td><td>6 GB</td></tr><tr><td>APPLE iPhone 12 Mini (White, 64 GB)</td><td>https://www.flipkart.com/apple-iphone-12-mini-white-64-gb/p/itmf3b16d1640898?pid=MOBFWBYZBH4CEC4C</td><td>Apple</td><td>59900</td><td>69900</td><td>14</td><td>740</td><td>64</td><td>MOBFWBYZBH4CEC4C</td><td>4.5</td><td>4 GB</td></tr><tr><td>APPLE iPhone 12 (White, 128 GB)</td><td>https://www.flipkart.com/apple-iphone-12-white-128-gb/p/itm95393f4c6cc59?pid=MOBFWBYZBTZFGJF9</td><td>Apple</td><td>75900</td><td>84900</td><td>10</td><td>2101</td><td>180</td><td>MOBFWBYZBTZFGJF9</td><td>4.6</td><td>6 GB</td></tr><tr><td>APPLE iPhone 12 Pro (Graphite, 128 GB)</td><td>https://www.flipkart.com/apple-iphone-12-pro-graphite-128-gb/p/itm03e5f2595d843?pid=MOBFWBYZBZ7Y56WD</td><td>Apple</td><td>110900</td><td>119900</td><td>7</td><td>545</td><td>42</td><td>MOBFWBYZBZ7Y56WD</td><td>4.5</td><td>6 GB</td></tr><tr><td>APPLE iPhone 12 Pro Max (Graphite, 256 GB)</td><td>https://www.flipkart.com/apple-iphone-12-pro-max-graphite-256-gb/p/itm8dbdf0b986725?pid=MOBFWBYZEF6XQ5ZW</td><td>Apple</td><td>130900</td><td>139900</td><td>6</td><td>580</td><td>45</td><td>MOBFWBYZEF6XQ5ZW</td><td>4.6</td><td>6 GB</td></tr><tr><td>APPLE iPhone 12 Pro Max (Graphite, 128 GB)</td><td>https://www.flipkart.com/apple-iphone-12-pro-max-graphite-128-gb/p/itm973c298184f51?pid=MOBFWBYZFDGQSDWS</td><td>Apple</td><td>120900</td><td>129900</td><td>6</td><td>580</td><td>45</td><td>MOBFWBYZFDGQSDWS</td><td>4.6</td><td>6 GB</td></tr><tr><td>APPLE iPhone 12 Mini (Black, 128 GB)</td><td>https://www.flipkart.com/apple-iphone-12-mini-black-128-gb/p/itm0eb512c195bdf?pid=MOBFWBYZH2AMPNPD</td><td>Apple</td><td>64900</td><td>74900</td><td>13</td><td>730</td><td>63</td><td>MOBFWBYZH2AMPNPD</td><td>4.5</td><td>4 GB</td></tr><tr><td>APPLE iPhone 12 Mini (Blue, 128 GB)</td><td>https://www.flipkart.com/apple-iphone-12-mini-blue-128-gb/p/itm9b6cdec9700ee?pid=MOBFWBYZHU58PHCZ</td><td>Apple</td><td>64900</td><td>74900</td><td>13</td><td>730</td><td>63</td><td>MOBFWBYZHU58PHCZ</td><td>4.5</td><td>4 GB</td></tr><tr><td>APPLE iPhone 12 (Black, 128 GB)</td><td>https://www.flipkart.com/apple-iphone-12-black-128-gb/p/itmf1f0a58f1ecd7?pid=MOBFWBYZK3HACR72</td><td>Apple</td><td>75900</td><td>84900</td><td>10</td><td>2101</td><td>180</td><td>MOBFWBYZK3HACR72</td><td>4.6</td><td>6 GB</td></tr><tr><td>APPLE iPhone 12 (Blue, 128 GB)</td><td>https://www.flipkart.com/apple-iphone-12-blue-128-gb/p/itm02853ae92e90a?pid=MOBFWBYZKPTZF9VG</td><td>Apple</td><td>75900</td><td>84900</td><td>10</td><td>2101</td><td>180</td><td>MOBFWBYZKPTZF9VG</td><td>4.6</td><td>6 GB</td></tr><tr><td>APPLE iPhone 12 Pro Max (Silver, 128 GB)</td><td>https://www.flipkart.com/apple-iphone-12-pro-max-silver-128-gb/p/itm5a51ba742a17e?pid=MOBFWBYZNSNVGGZC</td><td>Apple</td><td>120900</td><td>129900</td><td>6</td><td>580</td><td>45</td><td>MOBFWBYZNSNVGGZC</td><td>4.6</td><td>6 GB</td></tr><tr><td>APPLE iPhone 12 Mini (Red, 64 GB)</td><td>https://www.flipkart.com/apple-iphone-12-mini-red-64-gb/p/itm255dd64643767?pid=MOBFWBYZNVWGWN2U</td><td>Apple</td><td>59900</td><td>69900</td><td>14</td><td>740</td><td>64</td><td>MOBFWBYZNVWGWN2U</td><td>4.5</td><td>6 GB</td></tr><tr><td>APPLE iPhone 12 Pro Max (Gold, 128 GB)</td><td>https://www.flipkart.com/apple-iphone-12-pro-max-gold-128-gb/p/itme3ae592065711?pid=MOBFWBYZQVKT77YH</td><td>Apple</td><td>120900</td><td>129900</td><td>6</td><td>580</td><td>45</td><td>MOBFWBYZQVKT77YH</td><td>4.6</td><td>6 GB</td></tr><tr><td>APPLE iPhone 12 (Green, 128 GB)</td><td>https://www.flipkart.com/apple-iphone-12-green-128-gb/p/itm4e0a120f7d9c4?pid=MOBFWBYZQXUEHF48</td><td>Apple</td><td>75900</td><td>84900</td><td>10</td><td>2092</td><td>178</td><td>MOBFWBYZQXUEHF48</td><td>4.6</td><td>6 GB</td></tr><tr><td>APPLE iPhone 12 Pro (Pacific Blue, 512 GB)</td><td>https://www.flipkart.com/apple-iphone-12-pro-pacific-blue-512-gb/p/itm8a39d6779b04e?pid=MOBFWBYZTHSXKMGW</td><td>Apple</td><td>140900</td><td>149900</td><td>6</td><td>545</td><td>42</td><td>MOBFWBYZTHSXKMGW</td><td>4.5</td><td>4 GB</td></tr><tr><td>APPLE iPhone 12 (White, 64 GB)</td><td>https://www.flipkart.com/apple-iphone-12-white-64-gb/p/itm8b88bdc03cd79?pid=MOBFWBYZTK33MBG9</td><td>Apple</td><td>70900</td><td>79900</td><td>11</td><td>2101</td><td>180</td><td>MOBFWBYZTK33MBG9</td><td>4.6</td><td>6 GB</td></tr><tr><td>APPLE iPhone 12 (Black, 64 GB)</td><td>https://www.flipkart.com/apple-iphone-12-black-64-gb/p/itma2559422bf7c7?pid=MOBFWBYZU5FWK2VP</td><td>Apple</td><td>70900</td><td>79900</td><td>11</td><td>2092</td><td>178</td><td>MOBFWBYZU5FWK2VP</td><td>4.6</td><td>6 GB</td></tr><tr><td>APPLE iPhone 12 (Red, 128 GB)</td><td>https://www.flipkart.com/apple-iphone-12-red-128-gb/p/itma7bd86885ed98?pid=MOBFWBYZUHPFWQRD</td><td>Apple</td><td>75900</td><td>84900</td><td>10</td><td>2101</td><td>180</td><td>MOBFWBYZUHPFWQRD</td><td>4.6</td><td>6 GB</td></tr><tr><td>APPLE iPhone 12 Mini (Black, 64 GB)</td><td>https://www.flipkart.com/apple-iphone-12-mini-black-64-gb/p/itm38b727191eb08?pid=MOBFWBYZXSEGBS6F</td><td>Apple</td><td>59900</td><td>69900</td><td>14</td><td>740</td><td>64</td><td>MOBFWBYZXSEGBS6F</td><td>4.5</td><td>4 GB</td></tr><tr><td>APPLE iPhone 12 Pro (Pacific Blue, 128 GB)</td><td>https://www.flipkart.com/apple-iphone-12-pro-pacific-blue-128-gb/p/itm97c833296c221?pid=MOBFWBYZXYSCEEEH</td><td>Apple</td><td>110900</td><td>119900</td><td>7</td><td>545</td><td>42</td><td>MOBFWBYZXYSCEEEH</td><td>4.5</td><td>6 GB</td></tr><tr><td>APPLE iPhone 12 Pro Max (Pacific Blue, 128 GB)</td><td>https://www.flipkart.com/apple-iphone-12-pro-max-pacific-blue-128-gb/p/itmd89812b558a03?pid=MOBFWBYZZABKHZQA</td><td>Apple</td><td>120900</td><td>129900</td><td>6</td><td>580</td><td>45</td><td>MOBFWBYZZABKHZQA</td><td>4.6</td><td>6 GB</td></tr><tr><td>APPLE iPhone 12 Pro Max (Silver, 256 GB)</td><td>https://www.flipkart.com/apple-iphone-12-pro-max-silver-256-gb/p/itm30faf74442adb?pid=MOBFWBYZZH4AM8FE</td><td>Apple</td><td>130900</td><td>139900</td><td>6</td><td>580</td><td>45</td><td>MOBFWBYZZH4AM8FE</td><td>4.6</td><td>6 GB</td></tr><tr><td>APPLE iPhone 12 Pro Max (Gold, 256 GB)</td><td>https://www.flipkart.com/apple-iphone-12-pro-max-gold-256-gb/p/itm1e0354f5bbc8c?pid=MOBFWBYZZPW8JHQF</td><td>Apple</td><td>130900</td><td>139900</td><td>6</td><td>580</td><td>45</td><td>MOBFWBYZZPW8JHQF</td><td>4.6</td><td>6 GB</td></tr><tr><td>APPLE iPhone 11 (White, 128 GB)</td><td>https://www.flipkart.com/apple-iphone-11-white-128-gb/p/itme32df47ea6742?pid=MOBFWQ6B7KKRXDDS</td><td>Apple</td><td>54999</td><td>59900</td><td>8</td><td>43707</td><td>3357</td><td>MOBFWQ6B7KKRXDDS</td><td>4.6</td><td>4 GB</td></tr><tr><td>APPLE iPhone 11 (Red, 128 GB)</td><td>https://www.flipkart.com/apple-iphone-11-red-128-gb/p/itm8d14bd0e33a1c?pid=MOBFWQ6BEZTNK59G</td><td>Apple</td><td>54999</td><td>59900</td><td>8</td><td>43707</td><td>3357</td><td>MOBFWQ6BEZTNK59G</td><td>4.6</td><td>4 GB</td></tr><tr><td>APPLE iPhone SE (White, 64 GB)</td><td>https://www.flipkart.com/apple-iphone-se-white-64-gb/p/itma00a19e11c81b?pid=MOBFWQ6BGWDVGF3E</td><td>Apple</td><td>29999</td><td>39900</td><td>24</td><td>95807</td><td>8154</td><td>MOBFWQ6BGWDVGF3E</td><td>4.5</td><td>2 GB</td></tr><tr><td>APPLE iPhone SE (Black, 128 GB)</td><td>https://www.flipkart.com/apple-iphone-se-black-128-gb/p/itma9285ccc6af28?pid=MOBFWQ6BHUEVZPXD</td><td>Apple</td><td>34999</td><td>44900</td><td>22</td><td>95909</td><td>8161</td><td>MOBFWQ6BHUEVZPXD</td><td>4.5</td><td>2 GB</td></tr><tr><td>APPLE iPhone SE (White, 128 GB)</td><td>https://www.flipkart.com/apple-iphone-se-white-128-gb/p/itmc2a0f593a4ad8?pid=MOBFWQ6BJEHMUUZY</td><td>Apple</td><td>34999</td><td>44900</td><td>22</td><td>95807</td><td>8154</td><td>MOBFWQ6BJEHMUUZY</td><td>4.5</td><td>2 GB</td></tr><tr><td>APPLE iPhone SE (Red, 128 GB)</td><td>https://www.flipkart.com/apple-iphone-se-red-128-gb/p/itma4202509da171?pid=MOBFWQ6BJTVFKPEJ</td><td>Apple</td><td>34999</td><td>44900</td><td>22</td><td>95909</td><td>8161</td><td>MOBFWQ6BJTVFKPEJ</td><td>4.5</td><td>2 GB</td></tr><tr><td>APPLE iPhone 11 (Black, 128 GB)</td><td>https://www.flipkart.com/apple-iphone-11-black-128-gb/p/itm8244e8d955aba?pid=MOBFWQ6BKRYBP5X8</td><td>Apple</td><td>54999</td><td>59900</td><td>8</td><td>43470</td><td>3331</td><td>MOBFWQ6BKRYBP5X8</td><td>4.6</td><td>4 GB</td></tr><tr><td>APPLE iPhone SE (Black, 64 GB)</td><td>https://www.flipkart.com/apple-iphone-se-black-64-gb/p/itm4d3d5718a5c95?pid=MOBFWQ6BR3MK7AUG</td><td>Apple</td><td>29999</td><td>39900</td><td>24</td><td>95909</td><td>8161</td><td>MOBFWQ6BR3MK7AUG</td><td>4.5</td><td>4 GB</td></tr><tr><td>APPLE iPhone 11 (Purple, 64 GB)</td><td>https://www.flipkart.com/apple-iphone-11-purple-64-gb/p/itm2b8d03427ddac?pid=MOBFWQ6BTFFJKGKE</td><td>Apple</td><td>46999</td><td>54900</td><td>14</td><td>43470</td><td>3331</td><td>MOBFWQ6BTFFJKGKE</td><td>4.6</td><td>4 GB</td></tr><tr><td>APPLE iPhone 11 (White, 64 GB)</td><td>https://www.flipkart.com/apple-iphone-11-white-64-gb/p/itmfc6a7091eb20b?pid=MOBFWQ6BVWVEH3XE</td><td>Apple</td><td>46999</td><td>54900</td><td>14</td><td>43470</td><td>3331</td><td>MOBFWQ6BVWVEH3XE</td><td>4.6</td><td>4 GB</td></tr><tr><td>APPLE iPhone 11 (Black, 64 GB)</td><td>https://www.flipkart.com/apple-iphone-11-black-64-gb/p/itm4e5041ba101fd?pid=MOBFWQ6BXGJCEYNY</td><td>Apple</td><td>46999</td><td>54900</td><td>14</td><td>43470</td><td>3331</td><td>MOBFWQ6BXGJCEYNY</td><td>4.6</td><td>4 GB</td></tr><tr><td>APPLE iPhone 11 (Red, 64 GB)</td><td>https://www.flipkart.com/apple-iphone-11-red-64-gb/p/itmc3935326f2feb?pid=MOBFWQ6BYYV3FCU7</td><td>Apple</td><td>46999</td><td>54900</td><td>14</td><td>43470</td><td>3331</td><td>MOBFWQ6BYYV3FCU7</td><td>4.6</td><td>4 GB</td></tr></tbody></table></div>"
      ]
     },
     "metadata": {
      "application/vnd.databricks.v1+output": {
       "addedWidgets": {},
       "aggData": [],
       "aggError": "",
       "aggOverflow": false,
       "aggSchema": [],
       "aggSeriesLimitReached": false,
       "aggType": "",
       "arguments": {},
       "columnCustomDisplayInfos": {},
       "data": [
        [
         "APPLE iPhone 8 Plus (Gold, 64 GB)",
         "https://www.flipkart.com/apple-iphone-8-plus-gold-64-gb/p/itmexrgvuzgzttzh?pid=MOBEXRGV7EHHTGUH",
         "Apple",
         49900,
         49900,
         0,
         3431,
         356,
         "MOBEXRGV7EHHTGUH",
         4.6,
         "2 GB"
        ],
        [
         "APPLE iPhone 8 Plus (Space Grey, 256 GB)",
         "https://www.flipkart.com/apple-iphone-8-plus-space-grey-256-gb/p/itmexrgvzkbyqgtf?pid=MOBEXRGVAC6TJT4F",
         "Apple",
         84900,
         84900,
         0,
         3431,
         356,
         "MOBEXRGVAC6TJT4F",
         4.6,
         "2 GB"
        ],
        [
         "APPLE iPhone 8 Plus (Silver, 256 GB)",
         "https://www.flipkart.com/apple-iphone-8-plus-silver-256-gb/p/itmexrgvxatuyrqw?pid=MOBEXRGVGETABXWZ",
         "Apple",
         84900,
         84900,
         0,
         3431,
         356,
         "MOBEXRGVGETABXWZ",
         4.6,
         "2 GB"
        ],
        [
         "APPLE iPhone 8 (Silver, 256 GB)",
         "https://www.flipkart.com/apple-iphone-8-silver-256-gb/p/itmexrgvae48gzhp?pid=MOBEXRGVMZWUHCBA",
         "Apple",
         77000,
         77000,
         0,
         11202,
         794,
         "MOBEXRGVMZWUHCBA",
         4.5,
         "2 GB"
        ],
        [
         "APPLE iPhone 8 (Gold, 256 GB)",
         "https://www.flipkart.com/apple-iphone-8-gold-256-gb/p/itmexrgv8bvfbzgw?pid=MOBEXRGVPK7PFEJZ",
         "Apple",
         77000,
         77000,
         0,
         11202,
         794,
         "MOBEXRGVPK7PFEJZ",
         4.5,
         "2 GB"
        ],
        [
         "APPLE iPhone 8 Plus (Silver, 64 GB)",
         "https://www.flipkart.com/apple-iphone-8-plus-silver-64-gb/p/itmexrgv7yfjbryy?pid=MOBEXRGVQGYYP8FV",
         "Apple",
         49900,
         49900,
         0,
         3431,
         356,
         "MOBEXRGVQGYYP8FV",
         4.6,
         "2 GB"
        ],
        [
         "APPLE iPhone 8 Plus (Space Grey, 64 GB)",
         "https://www.flipkart.com/apple-iphone-8-plus-space-grey-64-gb/p/itmexrgvehtzhh9v?pid=MOBEXRGVQKBREZP8",
         "Apple",
         49900,
         49900,
         0,
         3431,
         356,
         "MOBEXRGVQKBREZP8",
         4.6,
         "2 GB"
        ],
        [
         "APPLE iPhone 8 (Space Grey, 256 GB)",
         "https://www.flipkart.com/apple-iphone-8-space-grey-256-gb/p/itmexrgvypzqw6df?pid=MOBEXRGVZFZGZEWV",
         "Apple",
         77000,
         77000,
         0,
         11202,
         794,
         "MOBEXRGVZFZGZEWV",
         4.5,
         "2 GB"
        ],
        [
         "APPLE iPhone XS Max (Silver, 64 GB)",
         "https://www.flipkart.com/apple-iphone-xs-max-silver-64-gb/p/itmf944ehzsh7emx?pid=MOBF944E2XAHW8V5",
         "Apple",
         89900,
         89900,
         0,
         1454,
         149,
         "MOBF944E2XAHW8V5",
         4.6,
         "4 GB"
        ],
        [
         "Apple iPhone XR ((PRODUCT)RED, 128 GB) (Includes EarPods, Power Adapter)",
         "https://www.flipkart.com/apple-iphone-xr-product-red-128-gb-includes-earpods-power-adapter/p/itmf9z7zbkvjzegf?pid=MOBF9Z7ZHQC23PWQ",
         "Apple",
         41999,
         52900,
         20,
         79512,
         6796,
         "MOBF9Z7ZHQC23PWQ",
         4.6,
         "4 GB"
        ],
        [
         "Apple iPhone XR (Black, 64 GB) (Includes EarPods, Power Adapter)",
         "https://www.flipkart.com/apple-iphone-xr-black-64-gb-includes-earpods-power-adapter/p/itmf9z7zxu4uqyz2?pid=MOBF9Z7ZPHGV4GNH",
         "Apple",
         39999,
         47900,
         16,
         79512,
         6796,
         "MOBF9Z7ZPHGV4GNH",
         4.6,
         "4 GB"
        ],
        [
         "Apple iPhone XR (Coral, 128 GB) (Includes EarPods, Power Adapter)",
         "https://www.flipkart.com/apple-iphone-xr-coral-128-gb-includes-earpods-power-adapter/p/itmf9z7zgxx5wgez?pid=MOBF9Z7ZS6GF5UAP",
         "Apple",
         41999,
         52900,
         20,
         79582,
         6804,
         "MOBF9Z7ZS6GF5UAP",
         4.6,
         "4 GB"
        ],
        [
         "Apple iPhone XR (Black, 128 GB) (Includes EarPods, Power Adapter)",
         "https://www.flipkart.com/apple-iphone-xr-black-128-gb-includes-earpods-power-adapter/p/itmf9z7zhdgzwmzm?pid=MOBF9Z7ZYWNFGZUC",
         "Apple",
         41999,
         52900,
         20,
         79512,
         6796,
         "MOBF9Z7ZYWNFGZUC",
         4.6,
         "3 GB"
        ],
        [
         "Apple iPhone XR (White, 128 GB) (Includes EarPods, Power Adapter)",
         "https://www.flipkart.com/apple-iphone-xr-white-128-gb-includes-earpods-power-adapter/p/itmf9z7zrz4tbhwm?pid=MOBF9Z7ZZY3HCDZZ",
         "Apple",
         41999,
         52900,
         20,
         79512,
         6796,
         "MOBF9Z7ZZY3HCDZZ",
         4.6,
         "4 GB"
        ],
        [
         "APPLE iPhone 11 Pro Max (Gold, 256 GB)",
         "https://www.flipkart.com/apple-iphone-11-pro-max-gold-256-gb/p/itm94c6536eefc46?pid=MOBFKCTS7HCHSPFH",
         "Apple",
         131900,
         131900,
         0,
         1078,
         101,
         "MOBFKCTS7HCHSPFH",
         4.7,
         "4 GB"
        ],
        [
         "APPLE iPhone 11 Pro Max (Gold, 64 GB)",
         "https://www.flipkart.com/apple-iphone-11-pro-max-gold-64-gb/p/itm6ef18218efdf6?pid=MOBFKCTSAPAYNSGG",
         "Apple",
         117100,
         117100,
         0,
         1078,
         101,
         "MOBFKCTSAPAYNSGG",
         4.7,
         "4 GB"
        ],
        [
         "APPLE iPhone 11 Pro Max (Midnight Green, 256 GB)",
         "https://www.flipkart.com/apple-iphone-11-pro-max-midnight-green-256-gb/p/itm68e0db18f9ecc?pid=MOBFKCTSCAAKGQV7",
         "Apple",
         131900,
         131900,
         0,
         1078,
         101,
         "MOBFKCTSCAAKGQV7",
         4.7,
         "4 GB"
        ],
        [
         "APPLE iPhone 11 Pro Max (Space Grey, 64 GB)",
         "https://www.flipkart.com/apple-iphone-11-pro-max-space-grey-64-gb/p/itme0101031155f8?pid=MOBFKCTSKDMKCGQS",
         "Apple",
         117100,
         117100,
         0,
         1078,
         101,
         "MOBFKCTSKDMKCGQS",
         4.7,
         "4 GB"
        ],
        [
         "APPLE iPhone 11 Pro (Midnight Green, 64 GB)",
         "https://www.flipkart.com/apple-iphone-11-pro-midnight-green-64-gb/p/itm471de0d2e8474?pid=MOBFKCTSN3TG3RFJ",
         "Apple",
         74999,
         106600,
         29,
         7088,
         523,
         "MOBFKCTSN3TG3RFJ",
         4.6,
         "4 GB"
        ],
        [
         "APPLE iPhone 11 Pro (Space Grey, 512 GB)",
         "https://www.flipkart.com/apple-iphone-11-pro-space-grey-512-gb/p/itmcd1f0ddbf1c21?pid=MOBFKCTSRTHRQTFT",
         "Apple",
         117900,
         140300,
         15,
         7088,
         523,
         "MOBFKCTSRTHRQTFT",
         4.6,
         "4 GB"
        ],
        [
         "APPLE iPhone 11 Pro Max (Midnight Green, 64 GB)",
         "https://www.flipkart.com/apple-iphone-11-pro-max-midnight-green-64-gb/p/itmab1763b5ca244?pid=MOBFKCTSRYPAQNYT",
         "Apple",
         117100,
         117100,
         0,
         1078,
         101,
         "MOBFKCTSRYPAQNYT",
         4.7,
         "4 GB"
        ],
        [
         "APPLE iPhone 11 Pro (Midnight Green, 512 GB)",
         "https://www.flipkart.com/apple-iphone-11-pro-midnight-green-512-gb/p/itm0bdd954387ca9?pid=MOBFKCTSSJCWYGCC",
         "Apple",
         117900,
         140300,
         15,
         7088,
         523,
         "MOBFKCTSSJCWYGCC",
         4.6,
         "4 GB"
        ],
        [
         "APPLE iPhone 11 Pro (Space Grey, 256 GB)",
         "https://www.flipkart.com/apple-iphone-11-pro-space-grey-256-gb/p/itmbecef22a95790?pid=MOBFKCTSWGYSAS9X",
         "Apple",
         99900,
         121300,
         17,
         7081,
         522,
         "MOBFKCTSWGYSAS9X",
         4.6,
         "4 GB"
        ],
        [
         "Apple iPhone SE (White, 256 GB) (Includes EarPods, Power Adapter)",
         "https://www.flipkart.com/apple-iphone-se-white-256-gb-includes-earpods-power-adapter/p/itm4d73793c30c4c?pid=MOBFRFXHPZCHAPEH",
         "Apple",
         44999,
         54900,
         18,
         95909,
         8161,
         "MOBFRFXHPZCHAPEH",
         4.5,
         "2 GB"
        ],
        [
         "APPLE iPhone 12 Pro (Silver, 512 GB)",
         "https://www.flipkart.com/apple-iphone-12-pro-silver-512-gb/p/itm0ccf9fc219a71?pid=MOBFWBYZ5UY6ZBVA",
         "Apple",
         140900,
         149900,
         6,
         542,
         42,
         "MOBFWBYZ5UY6ZBVA",
         4.5,
         "4 GB"
        ],
        [
         "APPLE iPhone 12 Pro Max (Pacific Blue, 256 GB)",
         "https://www.flipkart.com/apple-iphone-12-pro-max-pacific-blue-256-gb/p/itm3a0860c94250e?pid=MOBFWBYZ8STJXCVT",
         "Apple",
         130900,
         139900,
         6,
         580,
         45,
         "MOBFWBYZ8STJXCVT",
         4.6,
         "6 GB"
        ],
        [
         "APPLE iPhone 12 Mini (White, 128 GB)",
         "https://www.flipkart.com/apple-iphone-12-mini-white-128-gb/p/itm9098fa76548ba?pid=MOBFWBYZAGXJRDGB",
         "Apple",
         64900,
         74900,
         13,
         740,
         64,
         "MOBFWBYZAGXJRDGB",
         4.5,
         "4 GB"
        ],
        [
         "APPLE iPhone 12 Pro (Graphite, 256 GB)",
         "https://www.flipkart.com/apple-iphone-12-pro-graphite-256-gb/p/itm4fa4da575698c?pid=MOBFWBYZBA36UB7G",
         "Apple",
         120900,
         129900,
         6,
         545,
         42,
         "MOBFWBYZBA36UB7G",
         4.5,
         "6 GB"
        ],
        [
         "APPLE iPhone 12 Mini (White, 64 GB)",
         "https://www.flipkart.com/apple-iphone-12-mini-white-64-gb/p/itmf3b16d1640898?pid=MOBFWBYZBH4CEC4C",
         "Apple",
         59900,
         69900,
         14,
         740,
         64,
         "MOBFWBYZBH4CEC4C",
         4.5,
         "4 GB"
        ],
        [
         "APPLE iPhone 12 (White, 128 GB)",
         "https://www.flipkart.com/apple-iphone-12-white-128-gb/p/itm95393f4c6cc59?pid=MOBFWBYZBTZFGJF9",
         "Apple",
         75900,
         84900,
         10,
         2101,
         180,
         "MOBFWBYZBTZFGJF9",
         4.6,
         "6 GB"
        ],
        [
         "APPLE iPhone 12 Pro (Graphite, 128 GB)",
         "https://www.flipkart.com/apple-iphone-12-pro-graphite-128-gb/p/itm03e5f2595d843?pid=MOBFWBYZBZ7Y56WD",
         "Apple",
         110900,
         119900,
         7,
         545,
         42,
         "MOBFWBYZBZ7Y56WD",
         4.5,
         "6 GB"
        ],
        [
         "APPLE iPhone 12 Pro Max (Graphite, 256 GB)",
         "https://www.flipkart.com/apple-iphone-12-pro-max-graphite-256-gb/p/itm8dbdf0b986725?pid=MOBFWBYZEF6XQ5ZW",
         "Apple",
         130900,
         139900,
         6,
         580,
         45,
         "MOBFWBYZEF6XQ5ZW",
         4.6,
         "6 GB"
        ],
        [
         "APPLE iPhone 12 Pro Max (Graphite, 128 GB)",
         "https://www.flipkart.com/apple-iphone-12-pro-max-graphite-128-gb/p/itm973c298184f51?pid=MOBFWBYZFDGQSDWS",
         "Apple",
         120900,
         129900,
         6,
         580,
         45,
         "MOBFWBYZFDGQSDWS",
         4.6,
         "6 GB"
        ],
        [
         "APPLE iPhone 12 Mini (Black, 128 GB)",
         "https://www.flipkart.com/apple-iphone-12-mini-black-128-gb/p/itm0eb512c195bdf?pid=MOBFWBYZH2AMPNPD",
         "Apple",
         64900,
         74900,
         13,
         730,
         63,
         "MOBFWBYZH2AMPNPD",
         4.5,
         "4 GB"
        ],
        [
         "APPLE iPhone 12 Mini (Blue, 128 GB)",
         "https://www.flipkart.com/apple-iphone-12-mini-blue-128-gb/p/itm9b6cdec9700ee?pid=MOBFWBYZHU58PHCZ",
         "Apple",
         64900,
         74900,
         13,
         730,
         63,
         "MOBFWBYZHU58PHCZ",
         4.5,
         "4 GB"
        ],
        [
         "APPLE iPhone 12 (Black, 128 GB)",
         "https://www.flipkart.com/apple-iphone-12-black-128-gb/p/itmf1f0a58f1ecd7?pid=MOBFWBYZK3HACR72",
         "Apple",
         75900,
         84900,
         10,
         2101,
         180,
         "MOBFWBYZK3HACR72",
         4.6,
         "6 GB"
        ],
        [
         "APPLE iPhone 12 (Blue, 128 GB)",
         "https://www.flipkart.com/apple-iphone-12-blue-128-gb/p/itm02853ae92e90a?pid=MOBFWBYZKPTZF9VG",
         "Apple",
         75900,
         84900,
         10,
         2101,
         180,
         "MOBFWBYZKPTZF9VG",
         4.6,
         "6 GB"
        ],
        [
         "APPLE iPhone 12 Pro Max (Silver, 128 GB)",
         "https://www.flipkart.com/apple-iphone-12-pro-max-silver-128-gb/p/itm5a51ba742a17e?pid=MOBFWBYZNSNVGGZC",
         "Apple",
         120900,
         129900,
         6,
         580,
         45,
         "MOBFWBYZNSNVGGZC",
         4.6,
         "6 GB"
        ],
        [
         "APPLE iPhone 12 Mini (Red, 64 GB)",
         "https://www.flipkart.com/apple-iphone-12-mini-red-64-gb/p/itm255dd64643767?pid=MOBFWBYZNVWGWN2U",
         "Apple",
         59900,
         69900,
         14,
         740,
         64,
         "MOBFWBYZNVWGWN2U",
         4.5,
         "6 GB"
        ],
        [
         "APPLE iPhone 12 Pro Max (Gold, 128 GB)",
         "https://www.flipkart.com/apple-iphone-12-pro-max-gold-128-gb/p/itme3ae592065711?pid=MOBFWBYZQVKT77YH",
         "Apple",
         120900,
         129900,
         6,
         580,
         45,
         "MOBFWBYZQVKT77YH",
         4.6,
         "6 GB"
        ],
        [
         "APPLE iPhone 12 (Green, 128 GB)",
         "https://www.flipkart.com/apple-iphone-12-green-128-gb/p/itm4e0a120f7d9c4?pid=MOBFWBYZQXUEHF48",
         "Apple",
         75900,
         84900,
         10,
         2092,
         178,
         "MOBFWBYZQXUEHF48",
         4.6,
         "6 GB"
        ],
        [
         "APPLE iPhone 12 Pro (Pacific Blue, 512 GB)",
         "https://www.flipkart.com/apple-iphone-12-pro-pacific-blue-512-gb/p/itm8a39d6779b04e?pid=MOBFWBYZTHSXKMGW",
         "Apple",
         140900,
         149900,
         6,
         545,
         42,
         "MOBFWBYZTHSXKMGW",
         4.5,
         "4 GB"
        ],
        [
         "APPLE iPhone 12 (White, 64 GB)",
         "https://www.flipkart.com/apple-iphone-12-white-64-gb/p/itm8b88bdc03cd79?pid=MOBFWBYZTK33MBG9",
         "Apple",
         70900,
         79900,
         11,
         2101,
         180,
         "MOBFWBYZTK33MBG9",
         4.6,
         "6 GB"
        ],
        [
         "APPLE iPhone 12 (Black, 64 GB)",
         "https://www.flipkart.com/apple-iphone-12-black-64-gb/p/itma2559422bf7c7?pid=MOBFWBYZU5FWK2VP",
         "Apple",
         70900,
         79900,
         11,
         2092,
         178,
         "MOBFWBYZU5FWK2VP",
         4.6,
         "6 GB"
        ],
        [
         "APPLE iPhone 12 (Red, 128 GB)",
         "https://www.flipkart.com/apple-iphone-12-red-128-gb/p/itma7bd86885ed98?pid=MOBFWBYZUHPFWQRD",
         "Apple",
         75900,
         84900,
         10,
         2101,
         180,
         "MOBFWBYZUHPFWQRD",
         4.6,
         "6 GB"
        ],
        [
         "APPLE iPhone 12 Mini (Black, 64 GB)",
         "https://www.flipkart.com/apple-iphone-12-mini-black-64-gb/p/itm38b727191eb08?pid=MOBFWBYZXSEGBS6F",
         "Apple",
         59900,
         69900,
         14,
         740,
         64,
         "MOBFWBYZXSEGBS6F",
         4.5,
         "4 GB"
        ],
        [
         "APPLE iPhone 12 Pro (Pacific Blue, 128 GB)",
         "https://www.flipkart.com/apple-iphone-12-pro-pacific-blue-128-gb/p/itm97c833296c221?pid=MOBFWBYZXYSCEEEH",
         "Apple",
         110900,
         119900,
         7,
         545,
         42,
         "MOBFWBYZXYSCEEEH",
         4.5,
         "6 GB"
        ],
        [
         "APPLE iPhone 12 Pro Max (Pacific Blue, 128 GB)",
         "https://www.flipkart.com/apple-iphone-12-pro-max-pacific-blue-128-gb/p/itmd89812b558a03?pid=MOBFWBYZZABKHZQA",
         "Apple",
         120900,
         129900,
         6,
         580,
         45,
         "MOBFWBYZZABKHZQA",
         4.6,
         "6 GB"
        ],
        [
         "APPLE iPhone 12 Pro Max (Silver, 256 GB)",
         "https://www.flipkart.com/apple-iphone-12-pro-max-silver-256-gb/p/itm30faf74442adb?pid=MOBFWBYZZH4AM8FE",
         "Apple",
         130900,
         139900,
         6,
         580,
         45,
         "MOBFWBYZZH4AM8FE",
         4.6,
         "6 GB"
        ],
        [
         "APPLE iPhone 12 Pro Max (Gold, 256 GB)",
         "https://www.flipkart.com/apple-iphone-12-pro-max-gold-256-gb/p/itm1e0354f5bbc8c?pid=MOBFWBYZZPW8JHQF",
         "Apple",
         130900,
         139900,
         6,
         580,
         45,
         "MOBFWBYZZPW8JHQF",
         4.6,
         "6 GB"
        ],
        [
         "APPLE iPhone 11 (White, 128 GB)",
         "https://www.flipkart.com/apple-iphone-11-white-128-gb/p/itme32df47ea6742?pid=MOBFWQ6B7KKRXDDS",
         "Apple",
         54999,
         59900,
         8,
         43707,
         3357,
         "MOBFWQ6B7KKRXDDS",
         4.6,
         "4 GB"
        ],
        [
         "APPLE iPhone 11 (Red, 128 GB)",
         "https://www.flipkart.com/apple-iphone-11-red-128-gb/p/itm8d14bd0e33a1c?pid=MOBFWQ6BEZTNK59G",
         "Apple",
         54999,
         59900,
         8,
         43707,
         3357,
         "MOBFWQ6BEZTNK59G",
         4.6,
         "4 GB"
        ],
        [
         "APPLE iPhone SE (White, 64 GB)",
         "https://www.flipkart.com/apple-iphone-se-white-64-gb/p/itma00a19e11c81b?pid=MOBFWQ6BGWDVGF3E",
         "Apple",
         29999,
         39900,
         24,
         95807,
         8154,
         "MOBFWQ6BGWDVGF3E",
         4.5,
         "2 GB"
        ],
        [
         "APPLE iPhone SE (Black, 128 GB)",
         "https://www.flipkart.com/apple-iphone-se-black-128-gb/p/itma9285ccc6af28?pid=MOBFWQ6BHUEVZPXD",
         "Apple",
         34999,
         44900,
         22,
         95909,
         8161,
         "MOBFWQ6BHUEVZPXD",
         4.5,
         "2 GB"
        ],
        [
         "APPLE iPhone SE (White, 128 GB)",
         "https://www.flipkart.com/apple-iphone-se-white-128-gb/p/itmc2a0f593a4ad8?pid=MOBFWQ6BJEHMUUZY",
         "Apple",
         34999,
         44900,
         22,
         95807,
         8154,
         "MOBFWQ6BJEHMUUZY",
         4.5,
         "2 GB"
        ],
        [
         "APPLE iPhone SE (Red, 128 GB)",
         "https://www.flipkart.com/apple-iphone-se-red-128-gb/p/itma4202509da171?pid=MOBFWQ6BJTVFKPEJ",
         "Apple",
         34999,
         44900,
         22,
         95909,
         8161,
         "MOBFWQ6BJTVFKPEJ",
         4.5,
         "2 GB"
        ],
        [
         "APPLE iPhone 11 (Black, 128 GB)",
         "https://www.flipkart.com/apple-iphone-11-black-128-gb/p/itm8244e8d955aba?pid=MOBFWQ6BKRYBP5X8",
         "Apple",
         54999,
         59900,
         8,
         43470,
         3331,
         "MOBFWQ6BKRYBP5X8",
         4.6,
         "4 GB"
        ],
        [
         "APPLE iPhone SE (Black, 64 GB)",
         "https://www.flipkart.com/apple-iphone-se-black-64-gb/p/itm4d3d5718a5c95?pid=MOBFWQ6BR3MK7AUG",
         "Apple",
         29999,
         39900,
         24,
         95909,
         8161,
         "MOBFWQ6BR3MK7AUG",
         4.5,
         "4 GB"
        ],
        [
         "APPLE iPhone 11 (Purple, 64 GB)",
         "https://www.flipkart.com/apple-iphone-11-purple-64-gb/p/itm2b8d03427ddac?pid=MOBFWQ6BTFFJKGKE",
         "Apple",
         46999,
         54900,
         14,
         43470,
         3331,
         "MOBFWQ6BTFFJKGKE",
         4.6,
         "4 GB"
        ],
        [
         "APPLE iPhone 11 (White, 64 GB)",
         "https://www.flipkart.com/apple-iphone-11-white-64-gb/p/itmfc6a7091eb20b?pid=MOBFWQ6BVWVEH3XE",
         "Apple",
         46999,
         54900,
         14,
         43470,
         3331,
         "MOBFWQ6BVWVEH3XE",
         4.6,
         "4 GB"
        ],
        [
         "APPLE iPhone 11 (Black, 64 GB)",
         "https://www.flipkart.com/apple-iphone-11-black-64-gb/p/itm4e5041ba101fd?pid=MOBFWQ6BXGJCEYNY",
         "Apple",
         46999,
         54900,
         14,
         43470,
         3331,
         "MOBFWQ6BXGJCEYNY",
         4.6,
         "4 GB"
        ],
        [
         "APPLE iPhone 11 (Red, 64 GB)",
         "https://www.flipkart.com/apple-iphone-11-red-64-gb/p/itmc3935326f2feb?pid=MOBFWQ6BYYV3FCU7",
         "Apple",
         46999,
         54900,
         14,
         43470,
         3331,
         "MOBFWQ6BYYV3FCU7",
         4.6,
         "4 GB"
        ]
       ],
       "datasetInfos": [],
       "dbfsResultPath": null,
       "isJsonSchema": true,
       "metadata": {},
       "overflow": false,
       "plotOptions": {
        "customPlotOptions": {},
        "displayType": "table",
        "pivotAggregation": null,
        "pivotColumns": null,
        "xColumns": null,
        "yColumns": null
       },
       "removedWidgets": [],
       "schema": [
        {
         "metadata": "{}",
         "name": "Product Name",
         "type": "\"string\""
        },
        {
         "metadata": "{}",
         "name": "Product URL",
         "type": "\"string\""
        },
        {
         "metadata": "{}",
         "name": "Brand",
         "type": "\"string\""
        },
        {
         "metadata": "{}",
         "name": "Sale Price",
         "type": "\"integer\""
        },
        {
         "metadata": "{}",
         "name": "Mrp",
         "type": "\"integer\""
        },
        {
         "metadata": "{}",
         "name": "Discount Percentage",
         "type": "\"integer\""
        },
        {
         "metadata": "{}",
         "name": "Number Of Ratings",
         "type": "\"integer\""
        },
        {
         "metadata": "{}",
         "name": "Number Of Reviews",
         "type": "\"integer\""
        },
        {
         "metadata": "{}",
         "name": "Upc",
         "type": "\"string\""
        },
        {
         "metadata": "{}",
         "name": "Star Rating",
         "type": "\"double\""
        },
        {
         "metadata": "{}",
         "name": "Ram",
         "type": "\"string\""
        }
       ],
       "type": "table"
      }
     },
     "output_type": "display_data"
    }
   ],
   "source": [
    "%sql\n",
    "SELECT * FROM Apple "
   ]
  },
  {
   "cell_type": "code",
   "execution_count": 0,
   "metadata": {
    "application/vnd.databricks.v1+cell": {
     "cellMetadata": {
      "byteLimit": 2048000,
      "implicitDf": true,
      "rowLimit": 10000
     },
     "inputWidgets": {},
     "nuid": "d62afeb6-a75c-4a22-873e-8f128f19ad85",
     "showTitle": false,
     "title": ""
    }
   },
   "outputs": [
    {
     "output_type": "display_data",
     "data": {
      "text/html": [
       "<style scoped>\n",
       "  .table-result-container {\n",
       "    max-height: 300px;\n",
       "    overflow: auto;\n",
       "  }\n",
       "  table, th, td {\n",
       "    border: 1px solid black;\n",
       "    border-collapse: collapse;\n",
       "  }\n",
       "  th, td {\n",
       "    padding: 5px;\n",
       "  }\n",
       "  th {\n",
       "    text-align: left;\n",
       "  }\n",
       "</style><div class='table-result-container'><table class='table-result'><thead style='background-color: white'><tr><th>Product Name</th><th>Product URL</th><th>Brand</th><th>Sale Price</th><th>Mrp</th><th>Discount Percentage</th><th>Number Of Ratings</th><th>Number Of Reviews</th><th>Upc</th><th>Star Rating</th><th>Ram</th></tr></thead><tbody><tr><td>APPLE iPhone 8 Plus (Gold, 64 GB)</td><td>https://www.flipkart.com/apple-iphone-8-plus-gold-64-gb/p/itmexrgvuzgzttzh?pid=MOBEXRGV7EHHTGUH</td><td>Apple</td><td>49900</td><td>49900</td><td>0</td><td>3431</td><td>356</td><td>MOBEXRGV7EHHTGUH</td><td>4.6</td><td>2 GB</td></tr><tr><td>APPLE iPhone 8 Plus (Space Grey, 256 GB)</td><td>https://www.flipkart.com/apple-iphone-8-plus-space-grey-256-gb/p/itmexrgvzkbyqgtf?pid=MOBEXRGVAC6TJT4F</td><td>Apple</td><td>84900</td><td>84900</td><td>0</td><td>3431</td><td>356</td><td>MOBEXRGVAC6TJT4F</td><td>4.6</td><td>2 GB</td></tr><tr><td>APPLE iPhone 8 Plus (Silver, 256 GB)</td><td>https://www.flipkart.com/apple-iphone-8-plus-silver-256-gb/p/itmexrgvxatuyrqw?pid=MOBEXRGVGETABXWZ</td><td>Apple</td><td>84900</td><td>84900</td><td>0</td><td>3431</td><td>356</td><td>MOBEXRGVGETABXWZ</td><td>4.6</td><td>2 GB</td></tr><tr><td>APPLE iPhone 8 (Silver, 256 GB)</td><td>https://www.flipkart.com/apple-iphone-8-silver-256-gb/p/itmexrgvae48gzhp?pid=MOBEXRGVMZWUHCBA</td><td>Apple</td><td>77000</td><td>77000</td><td>0</td><td>11202</td><td>794</td><td>MOBEXRGVMZWUHCBA</td><td>4.5</td><td>2 GB</td></tr><tr><td>APPLE iPhone 8 (Gold, 256 GB)</td><td>https://www.flipkart.com/apple-iphone-8-gold-256-gb/p/itmexrgv8bvfbzgw?pid=MOBEXRGVPK7PFEJZ</td><td>Apple</td><td>77000</td><td>77000</td><td>0</td><td>11202</td><td>794</td><td>MOBEXRGVPK7PFEJZ</td><td>4.5</td><td>2 GB</td></tr><tr><td>APPLE iPhone 8 Plus (Silver, 64 GB)</td><td>https://www.flipkart.com/apple-iphone-8-plus-silver-64-gb/p/itmexrgv7yfjbryy?pid=MOBEXRGVQGYYP8FV</td><td>Apple</td><td>49900</td><td>49900</td><td>0</td><td>3431</td><td>356</td><td>MOBEXRGVQGYYP8FV</td><td>4.6</td><td>2 GB</td></tr><tr><td>APPLE iPhone 8 Plus (Space Grey, 64 GB)</td><td>https://www.flipkart.com/apple-iphone-8-plus-space-grey-64-gb/p/itmexrgvehtzhh9v?pid=MOBEXRGVQKBREZP8</td><td>Apple</td><td>49900</td><td>49900</td><td>0</td><td>3431</td><td>356</td><td>MOBEXRGVQKBREZP8</td><td>4.6</td><td>2 GB</td></tr><tr><td>APPLE iPhone 8 (Space Grey, 256 GB)</td><td>https://www.flipkart.com/apple-iphone-8-space-grey-256-gb/p/itmexrgvypzqw6df?pid=MOBEXRGVZFZGZEWV</td><td>Apple</td><td>77000</td><td>77000</td><td>0</td><td>11202</td><td>794</td><td>MOBEXRGVZFZGZEWV</td><td>4.5</td><td>2 GB</td></tr><tr><td>APPLE iPhone XS Max (Silver, 64 GB)</td><td>https://www.flipkart.com/apple-iphone-xs-max-silver-64-gb/p/itmf944ehzsh7emx?pid=MOBF944E2XAHW8V5</td><td>Apple</td><td>89900</td><td>89900</td><td>0</td><td>1454</td><td>149</td><td>MOBF944E2XAHW8V5</td><td>4.6</td><td>4 GB</td></tr><tr><td>Apple iPhone XR ((PRODUCT)RED, 128 GB) (Includes EarPods, Power Adapter)</td><td>https://www.flipkart.com/apple-iphone-xr-product-red-128-gb-includes-earpods-power-adapter/p/itmf9z7zbkvjzegf?pid=MOBF9Z7ZHQC23PWQ</td><td>Apple</td><td>41999</td><td>52900</td><td>20</td><td>79512</td><td>6796</td><td>MOBF9Z7ZHQC23PWQ</td><td>4.6</td><td>4 GB</td></tr><tr><td>Apple iPhone XR (Black, 64 GB) (Includes EarPods, Power Adapter)</td><td>https://www.flipkart.com/apple-iphone-xr-black-64-gb-includes-earpods-power-adapter/p/itmf9z7zxu4uqyz2?pid=MOBF9Z7ZPHGV4GNH</td><td>Apple</td><td>39999</td><td>47900</td><td>16</td><td>79512</td><td>6796</td><td>MOBF9Z7ZPHGV4GNH</td><td>4.6</td><td>4 GB</td></tr><tr><td>Apple iPhone XR (Coral, 128 GB) (Includes EarPods, Power Adapter)</td><td>https://www.flipkart.com/apple-iphone-xr-coral-128-gb-includes-earpods-power-adapter/p/itmf9z7zgxx5wgez?pid=MOBF9Z7ZS6GF5UAP</td><td>Apple</td><td>41999</td><td>52900</td><td>20</td><td>79582</td><td>6804</td><td>MOBF9Z7ZS6GF5UAP</td><td>4.6</td><td>4 GB</td></tr><tr><td>Apple iPhone XR (Black, 128 GB) (Includes EarPods, Power Adapter)</td><td>https://www.flipkart.com/apple-iphone-xr-black-128-gb-includes-earpods-power-adapter/p/itmf9z7zhdgzwmzm?pid=MOBF9Z7ZYWNFGZUC</td><td>Apple</td><td>41999</td><td>52900</td><td>20</td><td>79512</td><td>6796</td><td>MOBF9Z7ZYWNFGZUC</td><td>4.6</td><td>3 GB</td></tr><tr><td>Apple iPhone XR (White, 128 GB) (Includes EarPods, Power Adapter)</td><td>https://www.flipkart.com/apple-iphone-xr-white-128-gb-includes-earpods-power-adapter/p/itmf9z7zrz4tbhwm?pid=MOBF9Z7ZZY3HCDZZ</td><td>Apple</td><td>41999</td><td>52900</td><td>20</td><td>79512</td><td>6796</td><td>MOBF9Z7ZZY3HCDZZ</td><td>4.6</td><td>4 GB</td></tr><tr><td>APPLE iPhone 11 Pro Max (Gold, 256 GB)</td><td>https://www.flipkart.com/apple-iphone-11-pro-max-gold-256-gb/p/itm94c6536eefc46?pid=MOBFKCTS7HCHSPFH</td><td>Apple</td><td>131900</td><td>131900</td><td>0</td><td>1078</td><td>101</td><td>MOBFKCTS7HCHSPFH</td><td>4.7</td><td>4 GB</td></tr><tr><td>APPLE iPhone 11 Pro Max (Gold, 64 GB)</td><td>https://www.flipkart.com/apple-iphone-11-pro-max-gold-64-gb/p/itm6ef18218efdf6?pid=MOBFKCTSAPAYNSGG</td><td>Apple</td><td>117100</td><td>117100</td><td>0</td><td>1078</td><td>101</td><td>MOBFKCTSAPAYNSGG</td><td>4.7</td><td>4 GB</td></tr><tr><td>APPLE iPhone 11 Pro Max (Midnight Green, 256 GB)</td><td>https://www.flipkart.com/apple-iphone-11-pro-max-midnight-green-256-gb/p/itm68e0db18f9ecc?pid=MOBFKCTSCAAKGQV7</td><td>Apple</td><td>131900</td><td>131900</td><td>0</td><td>1078</td><td>101</td><td>MOBFKCTSCAAKGQV7</td><td>4.7</td><td>4 GB</td></tr><tr><td>APPLE iPhone 11 Pro Max (Space Grey, 64 GB)</td><td>https://www.flipkart.com/apple-iphone-11-pro-max-space-grey-64-gb/p/itme0101031155f8?pid=MOBFKCTSKDMKCGQS</td><td>Apple</td><td>117100</td><td>117100</td><td>0</td><td>1078</td><td>101</td><td>MOBFKCTSKDMKCGQS</td><td>4.7</td><td>4 GB</td></tr><tr><td>APPLE iPhone 11 Pro (Midnight Green, 64 GB)</td><td>https://www.flipkart.com/apple-iphone-11-pro-midnight-green-64-gb/p/itm471de0d2e8474?pid=MOBFKCTSN3TG3RFJ</td><td>Apple</td><td>74999</td><td>106600</td><td>29</td><td>7088</td><td>523</td><td>MOBFKCTSN3TG3RFJ</td><td>4.6</td><td>4 GB</td></tr><tr><td>APPLE iPhone 11 Pro (Space Grey, 512 GB)</td><td>https://www.flipkart.com/apple-iphone-11-pro-space-grey-512-gb/p/itmcd1f0ddbf1c21?pid=MOBFKCTSRTHRQTFT</td><td>Apple</td><td>117900</td><td>140300</td><td>15</td><td>7088</td><td>523</td><td>MOBFKCTSRTHRQTFT</td><td>4.6</td><td>4 GB</td></tr><tr><td>APPLE iPhone 11 Pro Max (Midnight Green, 64 GB)</td><td>https://www.flipkart.com/apple-iphone-11-pro-max-midnight-green-64-gb/p/itmab1763b5ca244?pid=MOBFKCTSRYPAQNYT</td><td>Apple</td><td>117100</td><td>117100</td><td>0</td><td>1078</td><td>101</td><td>MOBFKCTSRYPAQNYT</td><td>4.7</td><td>4 GB</td></tr><tr><td>APPLE iPhone 11 Pro (Midnight Green, 512 GB)</td><td>https://www.flipkart.com/apple-iphone-11-pro-midnight-green-512-gb/p/itm0bdd954387ca9?pid=MOBFKCTSSJCWYGCC</td><td>Apple</td><td>117900</td><td>140300</td><td>15</td><td>7088</td><td>523</td><td>MOBFKCTSSJCWYGCC</td><td>4.6</td><td>4 GB</td></tr><tr><td>APPLE iPhone 11 Pro (Space Grey, 256 GB)</td><td>https://www.flipkart.com/apple-iphone-11-pro-space-grey-256-gb/p/itmbecef22a95790?pid=MOBFKCTSWGYSAS9X</td><td>Apple</td><td>99900</td><td>121300</td><td>17</td><td>7081</td><td>522</td><td>MOBFKCTSWGYSAS9X</td><td>4.6</td><td>4 GB</td></tr><tr><td>Apple iPhone SE (White, 256 GB) (Includes EarPods, Power Adapter)</td><td>https://www.flipkart.com/apple-iphone-se-white-256-gb-includes-earpods-power-adapter/p/itm4d73793c30c4c?pid=MOBFRFXHPZCHAPEH</td><td>Apple</td><td>44999</td><td>54900</td><td>18</td><td>95909</td><td>8161</td><td>MOBFRFXHPZCHAPEH</td><td>4.5</td><td>2 GB</td></tr><tr><td>APPLE iPhone 12 Pro (Silver, 512 GB)</td><td>https://www.flipkart.com/apple-iphone-12-pro-silver-512-gb/p/itm0ccf9fc219a71?pid=MOBFWBYZ5UY6ZBVA</td><td>Apple</td><td>140900</td><td>149900</td><td>6</td><td>542</td><td>42</td><td>MOBFWBYZ5UY6ZBVA</td><td>4.5</td><td>4 GB</td></tr><tr><td>APPLE iPhone 12 Pro Max (Pacific Blue, 256 GB)</td><td>https://www.flipkart.com/apple-iphone-12-pro-max-pacific-blue-256-gb/p/itm3a0860c94250e?pid=MOBFWBYZ8STJXCVT</td><td>Apple</td><td>130900</td><td>139900</td><td>6</td><td>580</td><td>45</td><td>MOBFWBYZ8STJXCVT</td><td>4.6</td><td>6 GB</td></tr><tr><td>APPLE iPhone 12 Mini (White, 128 GB)</td><td>https://www.flipkart.com/apple-iphone-12-mini-white-128-gb/p/itm9098fa76548ba?pid=MOBFWBYZAGXJRDGB</td><td>Apple</td><td>64900</td><td>74900</td><td>13</td><td>740</td><td>64</td><td>MOBFWBYZAGXJRDGB</td><td>4.5</td><td>4 GB</td></tr><tr><td>APPLE iPhone 12 Pro (Graphite, 256 GB)</td><td>https://www.flipkart.com/apple-iphone-12-pro-graphite-256-gb/p/itm4fa4da575698c?pid=MOBFWBYZBA36UB7G</td><td>Apple</td><td>120900</td><td>129900</td><td>6</td><td>545</td><td>42</td><td>MOBFWBYZBA36UB7G</td><td>4.5</td><td>6 GB</td></tr><tr><td>APPLE iPhone 12 Mini (White, 64 GB)</td><td>https://www.flipkart.com/apple-iphone-12-mini-white-64-gb/p/itmf3b16d1640898?pid=MOBFWBYZBH4CEC4C</td><td>Apple</td><td>59900</td><td>69900</td><td>14</td><td>740</td><td>64</td><td>MOBFWBYZBH4CEC4C</td><td>4.5</td><td>4 GB</td></tr><tr><td>APPLE iPhone 12 (White, 128 GB)</td><td>https://www.flipkart.com/apple-iphone-12-white-128-gb/p/itm95393f4c6cc59?pid=MOBFWBYZBTZFGJF9</td><td>Apple</td><td>75900</td><td>84900</td><td>10</td><td>2101</td><td>180</td><td>MOBFWBYZBTZFGJF9</td><td>4.6</td><td>6 GB</td></tr><tr><td>APPLE iPhone 12 Pro (Graphite, 128 GB)</td><td>https://www.flipkart.com/apple-iphone-12-pro-graphite-128-gb/p/itm03e5f2595d843?pid=MOBFWBYZBZ7Y56WD</td><td>Apple</td><td>110900</td><td>119900</td><td>7</td><td>545</td><td>42</td><td>MOBFWBYZBZ7Y56WD</td><td>4.5</td><td>6 GB</td></tr><tr><td>APPLE iPhone 12 Pro Max (Graphite, 256 GB)</td><td>https://www.flipkart.com/apple-iphone-12-pro-max-graphite-256-gb/p/itm8dbdf0b986725?pid=MOBFWBYZEF6XQ5ZW</td><td>Apple</td><td>130900</td><td>139900</td><td>6</td><td>580</td><td>45</td><td>MOBFWBYZEF6XQ5ZW</td><td>4.6</td><td>6 GB</td></tr><tr><td>APPLE iPhone 12 Pro Max (Graphite, 128 GB)</td><td>https://www.flipkart.com/apple-iphone-12-pro-max-graphite-128-gb/p/itm973c298184f51?pid=MOBFWBYZFDGQSDWS</td><td>Apple</td><td>120900</td><td>129900</td><td>6</td><td>580</td><td>45</td><td>MOBFWBYZFDGQSDWS</td><td>4.6</td><td>6 GB</td></tr><tr><td>APPLE iPhone 12 Mini (Black, 128 GB)</td><td>https://www.flipkart.com/apple-iphone-12-mini-black-128-gb/p/itm0eb512c195bdf?pid=MOBFWBYZH2AMPNPD</td><td>Apple</td><td>64900</td><td>74900</td><td>13</td><td>730</td><td>63</td><td>MOBFWBYZH2AMPNPD</td><td>4.5</td><td>4 GB</td></tr><tr><td>APPLE iPhone 12 Mini (Blue, 128 GB)</td><td>https://www.flipkart.com/apple-iphone-12-mini-blue-128-gb/p/itm9b6cdec9700ee?pid=MOBFWBYZHU58PHCZ</td><td>Apple</td><td>64900</td><td>74900</td><td>13</td><td>730</td><td>63</td><td>MOBFWBYZHU58PHCZ</td><td>4.5</td><td>4 GB</td></tr><tr><td>APPLE iPhone 12 (Black, 128 GB)</td><td>https://www.flipkart.com/apple-iphone-12-black-128-gb/p/itmf1f0a58f1ecd7?pid=MOBFWBYZK3HACR72</td><td>Apple</td><td>75900</td><td>84900</td><td>10</td><td>2101</td><td>180</td><td>MOBFWBYZK3HACR72</td><td>4.6</td><td>6 GB</td></tr><tr><td>APPLE iPhone 12 (Blue, 128 GB)</td><td>https://www.flipkart.com/apple-iphone-12-blue-128-gb/p/itm02853ae92e90a?pid=MOBFWBYZKPTZF9VG</td><td>Apple</td><td>75900</td><td>84900</td><td>10</td><td>2101</td><td>180</td><td>MOBFWBYZKPTZF9VG</td><td>4.6</td><td>6 GB</td></tr><tr><td>APPLE iPhone 12 Pro Max (Silver, 128 GB)</td><td>https://www.flipkart.com/apple-iphone-12-pro-max-silver-128-gb/p/itm5a51ba742a17e?pid=MOBFWBYZNSNVGGZC</td><td>Apple</td><td>120900</td><td>129900</td><td>6</td><td>580</td><td>45</td><td>MOBFWBYZNSNVGGZC</td><td>4.6</td><td>6 GB</td></tr><tr><td>APPLE iPhone 12 Mini (Red, 64 GB)</td><td>https://www.flipkart.com/apple-iphone-12-mini-red-64-gb/p/itm255dd64643767?pid=MOBFWBYZNVWGWN2U</td><td>Apple</td><td>59900</td><td>69900</td><td>14</td><td>740</td><td>64</td><td>MOBFWBYZNVWGWN2U</td><td>4.5</td><td>6 GB</td></tr><tr><td>APPLE iPhone 12 Pro Max (Gold, 128 GB)</td><td>https://www.flipkart.com/apple-iphone-12-pro-max-gold-128-gb/p/itme3ae592065711?pid=MOBFWBYZQVKT77YH</td><td>Apple</td><td>120900</td><td>129900</td><td>6</td><td>580</td><td>45</td><td>MOBFWBYZQVKT77YH</td><td>4.6</td><td>6 GB</td></tr><tr><td>APPLE iPhone 12 (Green, 128 GB)</td><td>https://www.flipkart.com/apple-iphone-12-green-128-gb/p/itm4e0a120f7d9c4?pid=MOBFWBYZQXUEHF48</td><td>Apple</td><td>75900</td><td>84900</td><td>10</td><td>2092</td><td>178</td><td>MOBFWBYZQXUEHF48</td><td>4.6</td><td>6 GB</td></tr><tr><td>APPLE iPhone 12 Pro (Pacific Blue, 512 GB)</td><td>https://www.flipkart.com/apple-iphone-12-pro-pacific-blue-512-gb/p/itm8a39d6779b04e?pid=MOBFWBYZTHSXKMGW</td><td>Apple</td><td>140900</td><td>149900</td><td>6</td><td>545</td><td>42</td><td>MOBFWBYZTHSXKMGW</td><td>4.5</td><td>4 GB</td></tr><tr><td>APPLE iPhone 12 (White, 64 GB)</td><td>https://www.flipkart.com/apple-iphone-12-white-64-gb/p/itm8b88bdc03cd79?pid=MOBFWBYZTK33MBG9</td><td>Apple</td><td>70900</td><td>79900</td><td>11</td><td>2101</td><td>180</td><td>MOBFWBYZTK33MBG9</td><td>4.6</td><td>6 GB</td></tr><tr><td>APPLE iPhone 12 (Black, 64 GB)</td><td>https://www.flipkart.com/apple-iphone-12-black-64-gb/p/itma2559422bf7c7?pid=MOBFWBYZU5FWK2VP</td><td>Apple</td><td>70900</td><td>79900</td><td>11</td><td>2092</td><td>178</td><td>MOBFWBYZU5FWK2VP</td><td>4.6</td><td>6 GB</td></tr><tr><td>APPLE iPhone 12 (Red, 128 GB)</td><td>https://www.flipkart.com/apple-iphone-12-red-128-gb/p/itma7bd86885ed98?pid=MOBFWBYZUHPFWQRD</td><td>Apple</td><td>75900</td><td>84900</td><td>10</td><td>2101</td><td>180</td><td>MOBFWBYZUHPFWQRD</td><td>4.6</td><td>6 GB</td></tr><tr><td>APPLE iPhone 12 Mini (Black, 64 GB)</td><td>https://www.flipkart.com/apple-iphone-12-mini-black-64-gb/p/itm38b727191eb08?pid=MOBFWBYZXSEGBS6F</td><td>Apple</td><td>59900</td><td>69900</td><td>14</td><td>740</td><td>64</td><td>MOBFWBYZXSEGBS6F</td><td>4.5</td><td>4 GB</td></tr><tr><td>APPLE iPhone 12 Pro (Pacific Blue, 128 GB)</td><td>https://www.flipkart.com/apple-iphone-12-pro-pacific-blue-128-gb/p/itm97c833296c221?pid=MOBFWBYZXYSCEEEH</td><td>Apple</td><td>110900</td><td>119900</td><td>7</td><td>545</td><td>42</td><td>MOBFWBYZXYSCEEEH</td><td>4.5</td><td>6 GB</td></tr><tr><td>APPLE iPhone 12 Pro Max (Pacific Blue, 128 GB)</td><td>https://www.flipkart.com/apple-iphone-12-pro-max-pacific-blue-128-gb/p/itmd89812b558a03?pid=MOBFWBYZZABKHZQA</td><td>Apple</td><td>120900</td><td>129900</td><td>6</td><td>580</td><td>45</td><td>MOBFWBYZZABKHZQA</td><td>4.6</td><td>6 GB</td></tr><tr><td>APPLE iPhone 12 Pro Max (Silver, 256 GB)</td><td>https://www.flipkart.com/apple-iphone-12-pro-max-silver-256-gb/p/itm30faf74442adb?pid=MOBFWBYZZH4AM8FE</td><td>Apple</td><td>130900</td><td>139900</td><td>6</td><td>580</td><td>45</td><td>MOBFWBYZZH4AM8FE</td><td>4.6</td><td>6 GB</td></tr><tr><td>APPLE iPhone 12 Pro Max (Gold, 256 GB)</td><td>https://www.flipkart.com/apple-iphone-12-pro-max-gold-256-gb/p/itm1e0354f5bbc8c?pid=MOBFWBYZZPW8JHQF</td><td>Apple</td><td>130900</td><td>139900</td><td>6</td><td>580</td><td>45</td><td>MOBFWBYZZPW8JHQF</td><td>4.6</td><td>6 GB</td></tr><tr><td>APPLE iPhone 11 (White, 128 GB)</td><td>https://www.flipkart.com/apple-iphone-11-white-128-gb/p/itme32df47ea6742?pid=MOBFWQ6B7KKRXDDS</td><td>Apple</td><td>54999</td><td>59900</td><td>8</td><td>43707</td><td>3357</td><td>MOBFWQ6B7KKRXDDS</td><td>4.6</td><td>4 GB</td></tr><tr><td>APPLE iPhone 11 (Red, 128 GB)</td><td>https://www.flipkart.com/apple-iphone-11-red-128-gb/p/itm8d14bd0e33a1c?pid=MOBFWQ6BEZTNK59G</td><td>Apple</td><td>54999</td><td>59900</td><td>8</td><td>43707</td><td>3357</td><td>MOBFWQ6BEZTNK59G</td><td>4.6</td><td>4 GB</td></tr><tr><td>APPLE iPhone SE (White, 64 GB)</td><td>https://www.flipkart.com/apple-iphone-se-white-64-gb/p/itma00a19e11c81b?pid=MOBFWQ6BGWDVGF3E</td><td>Apple</td><td>29999</td><td>39900</td><td>24</td><td>95807</td><td>8154</td><td>MOBFWQ6BGWDVGF3E</td><td>4.5</td><td>2 GB</td></tr><tr><td>APPLE iPhone SE (Black, 128 GB)</td><td>https://www.flipkart.com/apple-iphone-se-black-128-gb/p/itma9285ccc6af28?pid=MOBFWQ6BHUEVZPXD</td><td>Apple</td><td>34999</td><td>44900</td><td>22</td><td>95909</td><td>8161</td><td>MOBFWQ6BHUEVZPXD</td><td>4.5</td><td>2 GB</td></tr><tr><td>APPLE iPhone SE (White, 128 GB)</td><td>https://www.flipkart.com/apple-iphone-se-white-128-gb/p/itmc2a0f593a4ad8?pid=MOBFWQ6BJEHMUUZY</td><td>Apple</td><td>34999</td><td>44900</td><td>22</td><td>95807</td><td>8154</td><td>MOBFWQ6BJEHMUUZY</td><td>4.5</td><td>2 GB</td></tr><tr><td>APPLE iPhone SE (Red, 128 GB)</td><td>https://www.flipkart.com/apple-iphone-se-red-128-gb/p/itma4202509da171?pid=MOBFWQ6BJTVFKPEJ</td><td>Apple</td><td>34999</td><td>44900</td><td>22</td><td>95909</td><td>8161</td><td>MOBFWQ6BJTVFKPEJ</td><td>4.5</td><td>2 GB</td></tr><tr><td>APPLE iPhone 11 (Black, 128 GB)</td><td>https://www.flipkart.com/apple-iphone-11-black-128-gb/p/itm8244e8d955aba?pid=MOBFWQ6BKRYBP5X8</td><td>Apple</td><td>54999</td><td>59900</td><td>8</td><td>43470</td><td>3331</td><td>MOBFWQ6BKRYBP5X8</td><td>4.6</td><td>4 GB</td></tr><tr><td>APPLE iPhone SE (Black, 64 GB)</td><td>https://www.flipkart.com/apple-iphone-se-black-64-gb/p/itm4d3d5718a5c95?pid=MOBFWQ6BR3MK7AUG</td><td>Apple</td><td>29999</td><td>39900</td><td>24</td><td>95909</td><td>8161</td><td>MOBFWQ6BR3MK7AUG</td><td>4.5</td><td>4 GB</td></tr><tr><td>APPLE iPhone 11 (Purple, 64 GB)</td><td>https://www.flipkart.com/apple-iphone-11-purple-64-gb/p/itm2b8d03427ddac?pid=MOBFWQ6BTFFJKGKE</td><td>Apple</td><td>46999</td><td>54900</td><td>14</td><td>43470</td><td>3331</td><td>MOBFWQ6BTFFJKGKE</td><td>4.6</td><td>4 GB</td></tr><tr><td>APPLE iPhone 11 (White, 64 GB)</td><td>https://www.flipkart.com/apple-iphone-11-white-64-gb/p/itmfc6a7091eb20b?pid=MOBFWQ6BVWVEH3XE</td><td>Apple</td><td>46999</td><td>54900</td><td>14</td><td>43470</td><td>3331</td><td>MOBFWQ6BVWVEH3XE</td><td>4.6</td><td>4 GB</td></tr><tr><td>APPLE iPhone 11 (Black, 64 GB)</td><td>https://www.flipkart.com/apple-iphone-11-black-64-gb/p/itm4e5041ba101fd?pid=MOBFWQ6BXGJCEYNY</td><td>Apple</td><td>46999</td><td>54900</td><td>14</td><td>43470</td><td>3331</td><td>MOBFWQ6BXGJCEYNY</td><td>4.6</td><td>4 GB</td></tr><tr><td>APPLE iPhone 11 (Red, 64 GB)</td><td>https://www.flipkart.com/apple-iphone-11-red-64-gb/p/itmc3935326f2feb?pid=MOBFWQ6BYYV3FCU7</td><td>Apple</td><td>46999</td><td>54900</td><td>14</td><td>43470</td><td>3331</td><td>MOBFWQ6BYYV3FCU7</td><td>4.6</td><td>4 GB</td></tr></tbody></table></div>"
      ]
     },
     "metadata": {
      "application/vnd.databricks.v1+output": {
       "addedWidgets": {},
       "aggData": [],
       "aggError": "",
       "aggOverflow": false,
       "aggSchema": [],
       "aggSeriesLimitReached": false,
       "aggType": "",
       "arguments": {},
       "columnCustomDisplayInfos": {},
       "data": [
        [
         "APPLE iPhone 8 Plus (Gold, 64 GB)",
         "https://www.flipkart.com/apple-iphone-8-plus-gold-64-gb/p/itmexrgvuzgzttzh?pid=MOBEXRGV7EHHTGUH",
         "Apple",
         49900,
         49900,
         0,
         3431,
         356,
         "MOBEXRGV7EHHTGUH",
         4.6,
         "2 GB"
        ],
        [
         "APPLE iPhone 8 Plus (Space Grey, 256 GB)",
         "https://www.flipkart.com/apple-iphone-8-plus-space-grey-256-gb/p/itmexrgvzkbyqgtf?pid=MOBEXRGVAC6TJT4F",
         "Apple",
         84900,
         84900,
         0,
         3431,
         356,
         "MOBEXRGVAC6TJT4F",
         4.6,
         "2 GB"
        ],
        [
         "APPLE iPhone 8 Plus (Silver, 256 GB)",
         "https://www.flipkart.com/apple-iphone-8-plus-silver-256-gb/p/itmexrgvxatuyrqw?pid=MOBEXRGVGETABXWZ",
         "Apple",
         84900,
         84900,
         0,
         3431,
         356,
         "MOBEXRGVGETABXWZ",
         4.6,
         "2 GB"
        ],
        [
         "APPLE iPhone 8 (Silver, 256 GB)",
         "https://www.flipkart.com/apple-iphone-8-silver-256-gb/p/itmexrgvae48gzhp?pid=MOBEXRGVMZWUHCBA",
         "Apple",
         77000,
         77000,
         0,
         11202,
         794,
         "MOBEXRGVMZWUHCBA",
         4.5,
         "2 GB"
        ],
        [
         "APPLE iPhone 8 (Gold, 256 GB)",
         "https://www.flipkart.com/apple-iphone-8-gold-256-gb/p/itmexrgv8bvfbzgw?pid=MOBEXRGVPK7PFEJZ",
         "Apple",
         77000,
         77000,
         0,
         11202,
         794,
         "MOBEXRGVPK7PFEJZ",
         4.5,
         "2 GB"
        ],
        [
         "APPLE iPhone 8 Plus (Silver, 64 GB)",
         "https://www.flipkart.com/apple-iphone-8-plus-silver-64-gb/p/itmexrgv7yfjbryy?pid=MOBEXRGVQGYYP8FV",
         "Apple",
         49900,
         49900,
         0,
         3431,
         356,
         "MOBEXRGVQGYYP8FV",
         4.6,
         "2 GB"
        ],
        [
         "APPLE iPhone 8 Plus (Space Grey, 64 GB)",
         "https://www.flipkart.com/apple-iphone-8-plus-space-grey-64-gb/p/itmexrgvehtzhh9v?pid=MOBEXRGVQKBREZP8",
         "Apple",
         49900,
         49900,
         0,
         3431,
         356,
         "MOBEXRGVQKBREZP8",
         4.6,
         "2 GB"
        ],
        [
         "APPLE iPhone 8 (Space Grey, 256 GB)",
         "https://www.flipkart.com/apple-iphone-8-space-grey-256-gb/p/itmexrgvypzqw6df?pid=MOBEXRGVZFZGZEWV",
         "Apple",
         77000,
         77000,
         0,
         11202,
         794,
         "MOBEXRGVZFZGZEWV",
         4.5,
         "2 GB"
        ],
        [
         "APPLE iPhone XS Max (Silver, 64 GB)",
         "https://www.flipkart.com/apple-iphone-xs-max-silver-64-gb/p/itmf944ehzsh7emx?pid=MOBF944E2XAHW8V5",
         "Apple",
         89900,
         89900,
         0,
         1454,
         149,
         "MOBF944E2XAHW8V5",
         4.6,
         "4 GB"
        ],
        [
         "Apple iPhone XR ((PRODUCT)RED, 128 GB) (Includes EarPods, Power Adapter)",
         "https://www.flipkart.com/apple-iphone-xr-product-red-128-gb-includes-earpods-power-adapter/p/itmf9z7zbkvjzegf?pid=MOBF9Z7ZHQC23PWQ",
         "Apple",
         41999,
         52900,
         20,
         79512,
         6796,
         "MOBF9Z7ZHQC23PWQ",
         4.6,
         "4 GB"
        ],
        [
         "Apple iPhone XR (Black, 64 GB) (Includes EarPods, Power Adapter)",
         "https://www.flipkart.com/apple-iphone-xr-black-64-gb-includes-earpods-power-adapter/p/itmf9z7zxu4uqyz2?pid=MOBF9Z7ZPHGV4GNH",
         "Apple",
         39999,
         47900,
         16,
         79512,
         6796,
         "MOBF9Z7ZPHGV4GNH",
         4.6,
         "4 GB"
        ],
        [
         "Apple iPhone XR (Coral, 128 GB) (Includes EarPods, Power Adapter)",
         "https://www.flipkart.com/apple-iphone-xr-coral-128-gb-includes-earpods-power-adapter/p/itmf9z7zgxx5wgez?pid=MOBF9Z7ZS6GF5UAP",
         "Apple",
         41999,
         52900,
         20,
         79582,
         6804,
         "MOBF9Z7ZS6GF5UAP",
         4.6,
         "4 GB"
        ],
        [
         "Apple iPhone XR (Black, 128 GB) (Includes EarPods, Power Adapter)",
         "https://www.flipkart.com/apple-iphone-xr-black-128-gb-includes-earpods-power-adapter/p/itmf9z7zhdgzwmzm?pid=MOBF9Z7ZYWNFGZUC",
         "Apple",
         41999,
         52900,
         20,
         79512,
         6796,
         "MOBF9Z7ZYWNFGZUC",
         4.6,
         "3 GB"
        ],
        [
         "Apple iPhone XR (White, 128 GB) (Includes EarPods, Power Adapter)",
         "https://www.flipkart.com/apple-iphone-xr-white-128-gb-includes-earpods-power-adapter/p/itmf9z7zrz4tbhwm?pid=MOBF9Z7ZZY3HCDZZ",
         "Apple",
         41999,
         52900,
         20,
         79512,
         6796,
         "MOBF9Z7ZZY3HCDZZ",
         4.6,
         "4 GB"
        ],
        [
         "APPLE iPhone 11 Pro Max (Gold, 256 GB)",
         "https://www.flipkart.com/apple-iphone-11-pro-max-gold-256-gb/p/itm94c6536eefc46?pid=MOBFKCTS7HCHSPFH",
         "Apple",
         131900,
         131900,
         0,
         1078,
         101,
         "MOBFKCTS7HCHSPFH",
         4.7,
         "4 GB"
        ],
        [
         "APPLE iPhone 11 Pro Max (Gold, 64 GB)",
         "https://www.flipkart.com/apple-iphone-11-pro-max-gold-64-gb/p/itm6ef18218efdf6?pid=MOBFKCTSAPAYNSGG",
         "Apple",
         117100,
         117100,
         0,
         1078,
         101,
         "MOBFKCTSAPAYNSGG",
         4.7,
         "4 GB"
        ],
        [
         "APPLE iPhone 11 Pro Max (Midnight Green, 256 GB)",
         "https://www.flipkart.com/apple-iphone-11-pro-max-midnight-green-256-gb/p/itm68e0db18f9ecc?pid=MOBFKCTSCAAKGQV7",
         "Apple",
         131900,
         131900,
         0,
         1078,
         101,
         "MOBFKCTSCAAKGQV7",
         4.7,
         "4 GB"
        ],
        [
         "APPLE iPhone 11 Pro Max (Space Grey, 64 GB)",
         "https://www.flipkart.com/apple-iphone-11-pro-max-space-grey-64-gb/p/itme0101031155f8?pid=MOBFKCTSKDMKCGQS",
         "Apple",
         117100,
         117100,
         0,
         1078,
         101,
         "MOBFKCTSKDMKCGQS",
         4.7,
         "4 GB"
        ],
        [
         "APPLE iPhone 11 Pro (Midnight Green, 64 GB)",
         "https://www.flipkart.com/apple-iphone-11-pro-midnight-green-64-gb/p/itm471de0d2e8474?pid=MOBFKCTSN3TG3RFJ",
         "Apple",
         74999,
         106600,
         29,
         7088,
         523,
         "MOBFKCTSN3TG3RFJ",
         4.6,
         "4 GB"
        ],
        [
         "APPLE iPhone 11 Pro (Space Grey, 512 GB)",
         "https://www.flipkart.com/apple-iphone-11-pro-space-grey-512-gb/p/itmcd1f0ddbf1c21?pid=MOBFKCTSRTHRQTFT",
         "Apple",
         117900,
         140300,
         15,
         7088,
         523,
         "MOBFKCTSRTHRQTFT",
         4.6,
         "4 GB"
        ],
        [
         "APPLE iPhone 11 Pro Max (Midnight Green, 64 GB)",
         "https://www.flipkart.com/apple-iphone-11-pro-max-midnight-green-64-gb/p/itmab1763b5ca244?pid=MOBFKCTSRYPAQNYT",
         "Apple",
         117100,
         117100,
         0,
         1078,
         101,
         "MOBFKCTSRYPAQNYT",
         4.7,
         "4 GB"
        ],
        [
         "APPLE iPhone 11 Pro (Midnight Green, 512 GB)",
         "https://www.flipkart.com/apple-iphone-11-pro-midnight-green-512-gb/p/itm0bdd954387ca9?pid=MOBFKCTSSJCWYGCC",
         "Apple",
         117900,
         140300,
         15,
         7088,
         523,
         "MOBFKCTSSJCWYGCC",
         4.6,
         "4 GB"
        ],
        [
         "APPLE iPhone 11 Pro (Space Grey, 256 GB)",
         "https://www.flipkart.com/apple-iphone-11-pro-space-grey-256-gb/p/itmbecef22a95790?pid=MOBFKCTSWGYSAS9X",
         "Apple",
         99900,
         121300,
         17,
         7081,
         522,
         "MOBFKCTSWGYSAS9X",
         4.6,
         "4 GB"
        ],
        [
         "Apple iPhone SE (White, 256 GB) (Includes EarPods, Power Adapter)",
         "https://www.flipkart.com/apple-iphone-se-white-256-gb-includes-earpods-power-adapter/p/itm4d73793c30c4c?pid=MOBFRFXHPZCHAPEH",
         "Apple",
         44999,
         54900,
         18,
         95909,
         8161,
         "MOBFRFXHPZCHAPEH",
         4.5,
         "2 GB"
        ],
        [
         "APPLE iPhone 12 Pro (Silver, 512 GB)",
         "https://www.flipkart.com/apple-iphone-12-pro-silver-512-gb/p/itm0ccf9fc219a71?pid=MOBFWBYZ5UY6ZBVA",
         "Apple",
         140900,
         149900,
         6,
         542,
         42,
         "MOBFWBYZ5UY6ZBVA",
         4.5,
         "4 GB"
        ],
        [
         "APPLE iPhone 12 Pro Max (Pacific Blue, 256 GB)",
         "https://www.flipkart.com/apple-iphone-12-pro-max-pacific-blue-256-gb/p/itm3a0860c94250e?pid=MOBFWBYZ8STJXCVT",
         "Apple",
         130900,
         139900,
         6,
         580,
         45,
         "MOBFWBYZ8STJXCVT",
         4.6,
         "6 GB"
        ],
        [
         "APPLE iPhone 12 Mini (White, 128 GB)",
         "https://www.flipkart.com/apple-iphone-12-mini-white-128-gb/p/itm9098fa76548ba?pid=MOBFWBYZAGXJRDGB",
         "Apple",
         64900,
         74900,
         13,
         740,
         64,
         "MOBFWBYZAGXJRDGB",
         4.5,
         "4 GB"
        ],
        [
         "APPLE iPhone 12 Pro (Graphite, 256 GB)",
         "https://www.flipkart.com/apple-iphone-12-pro-graphite-256-gb/p/itm4fa4da575698c?pid=MOBFWBYZBA36UB7G",
         "Apple",
         120900,
         129900,
         6,
         545,
         42,
         "MOBFWBYZBA36UB7G",
         4.5,
         "6 GB"
        ],
        [
         "APPLE iPhone 12 Mini (White, 64 GB)",
         "https://www.flipkart.com/apple-iphone-12-mini-white-64-gb/p/itmf3b16d1640898?pid=MOBFWBYZBH4CEC4C",
         "Apple",
         59900,
         69900,
         14,
         740,
         64,
         "MOBFWBYZBH4CEC4C",
         4.5,
         "4 GB"
        ],
        [
         "APPLE iPhone 12 (White, 128 GB)",
         "https://www.flipkart.com/apple-iphone-12-white-128-gb/p/itm95393f4c6cc59?pid=MOBFWBYZBTZFGJF9",
         "Apple",
         75900,
         84900,
         10,
         2101,
         180,
         "MOBFWBYZBTZFGJF9",
         4.6,
         "6 GB"
        ],
        [
         "APPLE iPhone 12 Pro (Graphite, 128 GB)",
         "https://www.flipkart.com/apple-iphone-12-pro-graphite-128-gb/p/itm03e5f2595d843?pid=MOBFWBYZBZ7Y56WD",
         "Apple",
         110900,
         119900,
         7,
         545,
         42,
         "MOBFWBYZBZ7Y56WD",
         4.5,
         "6 GB"
        ],
        [
         "APPLE iPhone 12 Pro Max (Graphite, 256 GB)",
         "https://www.flipkart.com/apple-iphone-12-pro-max-graphite-256-gb/p/itm8dbdf0b986725?pid=MOBFWBYZEF6XQ5ZW",
         "Apple",
         130900,
         139900,
         6,
         580,
         45,
         "MOBFWBYZEF6XQ5ZW",
         4.6,
         "6 GB"
        ],
        [
         "APPLE iPhone 12 Pro Max (Graphite, 128 GB)",
         "https://www.flipkart.com/apple-iphone-12-pro-max-graphite-128-gb/p/itm973c298184f51?pid=MOBFWBYZFDGQSDWS",
         "Apple",
         120900,
         129900,
         6,
         580,
         45,
         "MOBFWBYZFDGQSDWS",
         4.6,
         "6 GB"
        ],
        [
         "APPLE iPhone 12 Mini (Black, 128 GB)",
         "https://www.flipkart.com/apple-iphone-12-mini-black-128-gb/p/itm0eb512c195bdf?pid=MOBFWBYZH2AMPNPD",
         "Apple",
         64900,
         74900,
         13,
         730,
         63,
         "MOBFWBYZH2AMPNPD",
         4.5,
         "4 GB"
        ],
        [
         "APPLE iPhone 12 Mini (Blue, 128 GB)",
         "https://www.flipkart.com/apple-iphone-12-mini-blue-128-gb/p/itm9b6cdec9700ee?pid=MOBFWBYZHU58PHCZ",
         "Apple",
         64900,
         74900,
         13,
         730,
         63,
         "MOBFWBYZHU58PHCZ",
         4.5,
         "4 GB"
        ],
        [
         "APPLE iPhone 12 (Black, 128 GB)",
         "https://www.flipkart.com/apple-iphone-12-black-128-gb/p/itmf1f0a58f1ecd7?pid=MOBFWBYZK3HACR72",
         "Apple",
         75900,
         84900,
         10,
         2101,
         180,
         "MOBFWBYZK3HACR72",
         4.6,
         "6 GB"
        ],
        [
         "APPLE iPhone 12 (Blue, 128 GB)",
         "https://www.flipkart.com/apple-iphone-12-blue-128-gb/p/itm02853ae92e90a?pid=MOBFWBYZKPTZF9VG",
         "Apple",
         75900,
         84900,
         10,
         2101,
         180,
         "MOBFWBYZKPTZF9VG",
         4.6,
         "6 GB"
        ],
        [
         "APPLE iPhone 12 Pro Max (Silver, 128 GB)",
         "https://www.flipkart.com/apple-iphone-12-pro-max-silver-128-gb/p/itm5a51ba742a17e?pid=MOBFWBYZNSNVGGZC",
         "Apple",
         120900,
         129900,
         6,
         580,
         45,
         "MOBFWBYZNSNVGGZC",
         4.6,
         "6 GB"
        ],
        [
         "APPLE iPhone 12 Mini (Red, 64 GB)",
         "https://www.flipkart.com/apple-iphone-12-mini-red-64-gb/p/itm255dd64643767?pid=MOBFWBYZNVWGWN2U",
         "Apple",
         59900,
         69900,
         14,
         740,
         64,
         "MOBFWBYZNVWGWN2U",
         4.5,
         "6 GB"
        ],
        [
         "APPLE iPhone 12 Pro Max (Gold, 128 GB)",
         "https://www.flipkart.com/apple-iphone-12-pro-max-gold-128-gb/p/itme3ae592065711?pid=MOBFWBYZQVKT77YH",
         "Apple",
         120900,
         129900,
         6,
         580,
         45,
         "MOBFWBYZQVKT77YH",
         4.6,
         "6 GB"
        ],
        [
         "APPLE iPhone 12 (Green, 128 GB)",
         "https://www.flipkart.com/apple-iphone-12-green-128-gb/p/itm4e0a120f7d9c4?pid=MOBFWBYZQXUEHF48",
         "Apple",
         75900,
         84900,
         10,
         2092,
         178,
         "MOBFWBYZQXUEHF48",
         4.6,
         "6 GB"
        ],
        [
         "APPLE iPhone 12 Pro (Pacific Blue, 512 GB)",
         "https://www.flipkart.com/apple-iphone-12-pro-pacific-blue-512-gb/p/itm8a39d6779b04e?pid=MOBFWBYZTHSXKMGW",
         "Apple",
         140900,
         149900,
         6,
         545,
         42,
         "MOBFWBYZTHSXKMGW",
         4.5,
         "4 GB"
        ],
        [
         "APPLE iPhone 12 (White, 64 GB)",
         "https://www.flipkart.com/apple-iphone-12-white-64-gb/p/itm8b88bdc03cd79?pid=MOBFWBYZTK33MBG9",
         "Apple",
         70900,
         79900,
         11,
         2101,
         180,
         "MOBFWBYZTK33MBG9",
         4.6,
         "6 GB"
        ],
        [
         "APPLE iPhone 12 (Black, 64 GB)",
         "https://www.flipkart.com/apple-iphone-12-black-64-gb/p/itma2559422bf7c7?pid=MOBFWBYZU5FWK2VP",
         "Apple",
         70900,
         79900,
         11,
         2092,
         178,
         "MOBFWBYZU5FWK2VP",
         4.6,
         "6 GB"
        ],
        [
         "APPLE iPhone 12 (Red, 128 GB)",
         "https://www.flipkart.com/apple-iphone-12-red-128-gb/p/itma7bd86885ed98?pid=MOBFWBYZUHPFWQRD",
         "Apple",
         75900,
         84900,
         10,
         2101,
         180,
         "MOBFWBYZUHPFWQRD",
         4.6,
         "6 GB"
        ],
        [
         "APPLE iPhone 12 Mini (Black, 64 GB)",
         "https://www.flipkart.com/apple-iphone-12-mini-black-64-gb/p/itm38b727191eb08?pid=MOBFWBYZXSEGBS6F",
         "Apple",
         59900,
         69900,
         14,
         740,
         64,
         "MOBFWBYZXSEGBS6F",
         4.5,
         "4 GB"
        ],
        [
         "APPLE iPhone 12 Pro (Pacific Blue, 128 GB)",
         "https://www.flipkart.com/apple-iphone-12-pro-pacific-blue-128-gb/p/itm97c833296c221?pid=MOBFWBYZXYSCEEEH",
         "Apple",
         110900,
         119900,
         7,
         545,
         42,
         "MOBFWBYZXYSCEEEH",
         4.5,
         "6 GB"
        ],
        [
         "APPLE iPhone 12 Pro Max (Pacific Blue, 128 GB)",
         "https://www.flipkart.com/apple-iphone-12-pro-max-pacific-blue-128-gb/p/itmd89812b558a03?pid=MOBFWBYZZABKHZQA",
         "Apple",
         120900,
         129900,
         6,
         580,
         45,
         "MOBFWBYZZABKHZQA",
         4.6,
         "6 GB"
        ],
        [
         "APPLE iPhone 12 Pro Max (Silver, 256 GB)",
         "https://www.flipkart.com/apple-iphone-12-pro-max-silver-256-gb/p/itm30faf74442adb?pid=MOBFWBYZZH4AM8FE",
         "Apple",
         130900,
         139900,
         6,
         580,
         45,
         "MOBFWBYZZH4AM8FE",
         4.6,
         "6 GB"
        ],
        [
         "APPLE iPhone 12 Pro Max (Gold, 256 GB)",
         "https://www.flipkart.com/apple-iphone-12-pro-max-gold-256-gb/p/itm1e0354f5bbc8c?pid=MOBFWBYZZPW8JHQF",
         "Apple",
         130900,
         139900,
         6,
         580,
         45,
         "MOBFWBYZZPW8JHQF",
         4.6,
         "6 GB"
        ],
        [
         "APPLE iPhone 11 (White, 128 GB)",
         "https://www.flipkart.com/apple-iphone-11-white-128-gb/p/itme32df47ea6742?pid=MOBFWQ6B7KKRXDDS",
         "Apple",
         54999,
         59900,
         8,
         43707,
         3357,
         "MOBFWQ6B7KKRXDDS",
         4.6,
         "4 GB"
        ],
        [
         "APPLE iPhone 11 (Red, 128 GB)",
         "https://www.flipkart.com/apple-iphone-11-red-128-gb/p/itm8d14bd0e33a1c?pid=MOBFWQ6BEZTNK59G",
         "Apple",
         54999,
         59900,
         8,
         43707,
         3357,
         "MOBFWQ6BEZTNK59G",
         4.6,
         "4 GB"
        ],
        [
         "APPLE iPhone SE (White, 64 GB)",
         "https://www.flipkart.com/apple-iphone-se-white-64-gb/p/itma00a19e11c81b?pid=MOBFWQ6BGWDVGF3E",
         "Apple",
         29999,
         39900,
         24,
         95807,
         8154,
         "MOBFWQ6BGWDVGF3E",
         4.5,
         "2 GB"
        ],
        [
         "APPLE iPhone SE (Black, 128 GB)",
         "https://www.flipkart.com/apple-iphone-se-black-128-gb/p/itma9285ccc6af28?pid=MOBFWQ6BHUEVZPXD",
         "Apple",
         34999,
         44900,
         22,
         95909,
         8161,
         "MOBFWQ6BHUEVZPXD",
         4.5,
         "2 GB"
        ],
        [
         "APPLE iPhone SE (White, 128 GB)",
         "https://www.flipkart.com/apple-iphone-se-white-128-gb/p/itmc2a0f593a4ad8?pid=MOBFWQ6BJEHMUUZY",
         "Apple",
         34999,
         44900,
         22,
         95807,
         8154,
         "MOBFWQ6BJEHMUUZY",
         4.5,
         "2 GB"
        ],
        [
         "APPLE iPhone SE (Red, 128 GB)",
         "https://www.flipkart.com/apple-iphone-se-red-128-gb/p/itma4202509da171?pid=MOBFWQ6BJTVFKPEJ",
         "Apple",
         34999,
         44900,
         22,
         95909,
         8161,
         "MOBFWQ6BJTVFKPEJ",
         4.5,
         "2 GB"
        ],
        [
         "APPLE iPhone 11 (Black, 128 GB)",
         "https://www.flipkart.com/apple-iphone-11-black-128-gb/p/itm8244e8d955aba?pid=MOBFWQ6BKRYBP5X8",
         "Apple",
         54999,
         59900,
         8,
         43470,
         3331,
         "MOBFWQ6BKRYBP5X8",
         4.6,
         "4 GB"
        ],
        [
         "APPLE iPhone SE (Black, 64 GB)",
         "https://www.flipkart.com/apple-iphone-se-black-64-gb/p/itm4d3d5718a5c95?pid=MOBFWQ6BR3MK7AUG",
         "Apple",
         29999,
         39900,
         24,
         95909,
         8161,
         "MOBFWQ6BR3MK7AUG",
         4.5,
         "4 GB"
        ],
        [
         "APPLE iPhone 11 (Purple, 64 GB)",
         "https://www.flipkart.com/apple-iphone-11-purple-64-gb/p/itm2b8d03427ddac?pid=MOBFWQ6BTFFJKGKE",
         "Apple",
         46999,
         54900,
         14,
         43470,
         3331,
         "MOBFWQ6BTFFJKGKE",
         4.6,
         "4 GB"
        ],
        [
         "APPLE iPhone 11 (White, 64 GB)",
         "https://www.flipkart.com/apple-iphone-11-white-64-gb/p/itmfc6a7091eb20b?pid=MOBFWQ6BVWVEH3XE",
         "Apple",
         46999,
         54900,
         14,
         43470,
         3331,
         "MOBFWQ6BVWVEH3XE",
         4.6,
         "4 GB"
        ],
        [
         "APPLE iPhone 11 (Black, 64 GB)",
         "https://www.flipkart.com/apple-iphone-11-black-64-gb/p/itm4e5041ba101fd?pid=MOBFWQ6BXGJCEYNY",
         "Apple",
         46999,
         54900,
         14,
         43470,
         3331,
         "MOBFWQ6BXGJCEYNY",
         4.6,
         "4 GB"
        ],
        [
         "APPLE iPhone 11 (Red, 64 GB)",
         "https://www.flipkart.com/apple-iphone-11-red-64-gb/p/itmc3935326f2feb?pid=MOBFWQ6BYYV3FCU7",
         "Apple",
         46999,
         54900,
         14,
         43470,
         3331,
         "MOBFWQ6BYYV3FCU7",
         4.6,
         "4 GB"
        ]
       ],
       "datasetInfos": [],
       "dbfsResultPath": null,
       "isJsonSchema": true,
       "metadata": {},
       "overflow": false,
       "plotOptions": {
        "customPlotOptions": {},
        "displayType": "table",
        "pivotAggregation": null,
        "pivotColumns": null,
        "xColumns": null,
        "yColumns": null
       },
       "removedWidgets": [],
       "schema": [
        {
         "metadata": "{}",
         "name": "Product Name",
         "type": "\"string\""
        },
        {
         "metadata": "{}",
         "name": "Product URL",
         "type": "\"string\""
        },
        {
         "metadata": "{}",
         "name": "Brand",
         "type": "\"string\""
        },
        {
         "metadata": "{}",
         "name": "Sale Price",
         "type": "\"integer\""
        },
        {
         "metadata": "{}",
         "name": "Mrp",
         "type": "\"integer\""
        },
        {
         "metadata": "{}",
         "name": "Discount Percentage",
         "type": "\"integer\""
        },
        {
         "metadata": "{}",
         "name": "Number Of Ratings",
         "type": "\"integer\""
        },
        {
         "metadata": "{}",
         "name": "Number Of Reviews",
         "type": "\"integer\""
        },
        {
         "metadata": "{}",
         "name": "Upc",
         "type": "\"string\""
        },
        {
         "metadata": "{}",
         "name": "Star Rating",
         "type": "\"double\""
        },
        {
         "metadata": "{}",
         "name": "Ram",
         "type": "\"string\""
        }
       ],
       "type": "table"
      }
     },
     "output_type": "display_data"
    }
   ],
   "source": [
    "%sql\n",
    "SELECT * from Apple "
   ]
  },
  {
   "cell_type": "code",
   "execution_count": 0,
   "metadata": {
    "application/vnd.databricks.v1+cell": {
     "cellMetadata": {
      "byteLimit": 2048000,
      "implicitDf": true,
      "rowLimit": 10000
     },
     "inputWidgets": {},
     "nuid": "cb6b884f-b29d-4519-835d-0c9f2dcb05d0",
     "showTitle": false,
     "title": ""
    }
   },
   "outputs": [
    {
     "output_type": "display_data",
     "data": {
      "text/html": [
       "<style scoped>\n",
       "  .table-result-container {\n",
       "    max-height: 300px;\n",
       "    overflow: auto;\n",
       "  }\n",
       "  table, th, td {\n",
       "    border: 1px solid black;\n",
       "    border-collapse: collapse;\n",
       "  }\n",
       "  th, td {\n",
       "    padding: 5px;\n",
       "  }\n",
       "  th {\n",
       "    text-align: left;\n",
       "  }\n",
       "</style><div class='table-result-container'><table class='table-result'><thead style='background-color: white'><tr><th>Product Name</th><th>sum_mrp</th></tr></thead><tbody><tr><td>APPLE iPhone 12 Pro Max (Graphite, 128 GB)</td><td>129900</td></tr><tr><td>APPLE iPhone 12 Pro Max (Pacific Blue, 256 GB)</td><td>139900</td></tr><tr><td>APPLE iPhone 12 Pro Max (Pacific Blue, 128 GB)</td><td>129900</td></tr><tr><td>APPLE iPhone 12 (Red, 128 GB)</td><td>84900</td></tr><tr><td>APPLE iPhone 11 Pro Max (Midnight Green, 64 GB)</td><td>117100</td></tr><tr><td>APPLE iPhone 12 Pro Max (Graphite, 256 GB)</td><td>139900</td></tr><tr><td>APPLE iPhone XS Max (Silver, 64 GB)</td><td>89900</td></tr><tr><td>APPLE iPhone 11 Pro (Space Grey, 512 GB)</td><td>140300</td></tr><tr><td>APPLE iPhone 12 Pro (Pacific Blue, 128 GB)</td><td>119900</td></tr><tr><td>APPLE iPhone 12 Pro (Graphite, 128 GB)</td><td>119900</td></tr><tr><td>APPLE iPhone 12 Pro (Graphite, 256 GB)</td><td>129900</td></tr><tr><td>APPLE iPhone 12 (White, 128 GB)</td><td>84900</td></tr><tr><td>APPLE iPhone 11 Pro Max (Space Grey, 64 GB)</td><td>117100</td></tr><tr><td>APPLE iPhone 12 Pro Max (Gold, 256 GB)</td><td>139900</td></tr><tr><td>APPLE iPhone 11 Pro (Midnight Green, 64 GB)</td><td>106600</td></tr><tr><td>APPLE iPhone 12 Pro Max (Silver, 256 GB)</td><td>139900</td></tr><tr><td>APPLE iPhone 12 (Black, 128 GB)</td><td>84900</td></tr><tr><td>APPLE iPhone 11 Pro (Space Grey, 256 GB)</td><td>121300</td></tr><tr><td>APPLE iPhone 12 (Green, 128 GB)</td><td>84900</td></tr><tr><td>APPLE iPhone 11 Pro Max (Gold, 256 GB)</td><td>131900</td></tr><tr><td>APPLE iPhone 8 Plus (Silver, 256 GB)</td><td>84900</td></tr><tr><td>APPLE iPhone 11 Pro (Midnight Green, 512 GB)</td><td>140300</td></tr><tr><td>APPLE iPhone 12 Pro (Silver, 512 GB)</td><td>149900</td></tr><tr><td>APPLE iPhone 12 Pro Max (Silver, 128 GB)</td><td>129900</td></tr><tr><td>APPLE iPhone 8 Plus (Space Grey, 256 GB)</td><td>84900</td></tr><tr><td>APPLE iPhone 12 Pro (Pacific Blue, 512 GB)</td><td>149900</td></tr><tr><td>APPLE iPhone 11 Pro Max (Gold, 64 GB)</td><td>117100</td></tr><tr><td>APPLE iPhone 11 Pro Max (Midnight Green, 256 GB)</td><td>131900</td></tr><tr><td>APPLE iPhone 12 Pro Max (Gold, 128 GB)</td><td>129900</td></tr><tr><td>APPLE iPhone 12 (Blue, 128 GB)</td><td>84900</td></tr></tbody></table></div>"
      ]
     },
     "metadata": {
      "application/vnd.databricks.v1+output": {
       "addedWidgets": {},
       "aggData": [],
       "aggError": "",
       "aggOverflow": false,
       "aggSchema": [],
       "aggSeriesLimitReached": false,
       "aggType": "",
       "arguments": {},
       "columnCustomDisplayInfos": {},
       "data": [
        [
         "APPLE iPhone 12 Pro Max (Graphite, 128 GB)",
         129900
        ],
        [
         "APPLE iPhone 12 Pro Max (Pacific Blue, 256 GB)",
         139900
        ],
        [
         "APPLE iPhone 12 Pro Max (Pacific Blue, 128 GB)",
         129900
        ],
        [
         "APPLE iPhone 12 (Red, 128 GB)",
         84900
        ],
        [
         "APPLE iPhone 11 Pro Max (Midnight Green, 64 GB)",
         117100
        ],
        [
         "APPLE iPhone 12 Pro Max (Graphite, 256 GB)",
         139900
        ],
        [
         "APPLE iPhone XS Max (Silver, 64 GB)",
         89900
        ],
        [
         "APPLE iPhone 11 Pro (Space Grey, 512 GB)",
         140300
        ],
        [
         "APPLE iPhone 12 Pro (Pacific Blue, 128 GB)",
         119900
        ],
        [
         "APPLE iPhone 12 Pro (Graphite, 128 GB)",
         119900
        ],
        [
         "APPLE iPhone 12 Pro (Graphite, 256 GB)",
         129900
        ],
        [
         "APPLE iPhone 12 (White, 128 GB)",
         84900
        ],
        [
         "APPLE iPhone 11 Pro Max (Space Grey, 64 GB)",
         117100
        ],
        [
         "APPLE iPhone 12 Pro Max (Gold, 256 GB)",
         139900
        ],
        [
         "APPLE iPhone 11 Pro (Midnight Green, 64 GB)",
         106600
        ],
        [
         "APPLE iPhone 12 Pro Max (Silver, 256 GB)",
         139900
        ],
        [
         "APPLE iPhone 12 (Black, 128 GB)",
         84900
        ],
        [
         "APPLE iPhone 11 Pro (Space Grey, 256 GB)",
         121300
        ],
        [
         "APPLE iPhone 12 (Green, 128 GB)",
         84900
        ],
        [
         "APPLE iPhone 11 Pro Max (Gold, 256 GB)",
         131900
        ],
        [
         "APPLE iPhone 8 Plus (Silver, 256 GB)",
         84900
        ],
        [
         "APPLE iPhone 11 Pro (Midnight Green, 512 GB)",
         140300
        ],
        [
         "APPLE iPhone 12 Pro (Silver, 512 GB)",
         149900
        ],
        [
         "APPLE iPhone 12 Pro Max (Silver, 128 GB)",
         129900
        ],
        [
         "APPLE iPhone 8 Plus (Space Grey, 256 GB)",
         84900
        ],
        [
         "APPLE iPhone 12 Pro (Pacific Blue, 512 GB)",
         149900
        ],
        [
         "APPLE iPhone 11 Pro Max (Gold, 64 GB)",
         117100
        ],
        [
         "APPLE iPhone 11 Pro Max (Midnight Green, 256 GB)",
         131900
        ],
        [
         "APPLE iPhone 12 Pro Max (Gold, 128 GB)",
         129900
        ],
        [
         "APPLE iPhone 12 (Blue, 128 GB)",
         84900
        ]
       ],
       "datasetInfos": [],
       "dbfsResultPath": null,
       "isJsonSchema": true,
       "metadata": {},
       "overflow": false,
       "plotOptions": {
        "customPlotOptions": {},
        "displayType": "table",
        "pivotAggregation": null,
        "pivotColumns": null,
        "xColumns": null,
        "yColumns": null
       },
       "removedWidgets": [],
       "schema": [
        {
         "metadata": "{}",
         "name": "Product Name",
         "type": "\"string\""
        },
        {
         "metadata": "{}",
         "name": "sum_mrp",
         "type": "\"long\""
        }
       ],
       "type": "table"
      }
     },
     "output_type": "display_data"
    }
   ],
   "source": [
    "%sql\n",
    "SELECT `Product Name`, SUM(Mrp) AS sum_mrp \n",
    "FROM Apple \n",
    "GROUP BY `Product Name` \n",
    "HAVING sum_mrp > 80000\n",
    "\n"
   ]
  },
  {
   "cell_type": "code",
   "execution_count": 0,
   "metadata": {
    "application/vnd.databricks.v1+cell": {
     "cellMetadata": {
      "byteLimit": 2048000,
      "implicitDf": true,
      "rowLimit": 10000
     },
     "inputWidgets": {},
     "nuid": "3dddcd64-5712-4801-aaa9-adb027ca3c66",
     "showTitle": false,
     "title": ""
    }
   },
   "outputs": [
    {
     "output_type": "display_data",
     "data": {
      "text/html": [
       "<style scoped>\n",
       "  .table-result-container {\n",
       "    max-height: 300px;\n",
       "    overflow: auto;\n",
       "  }\n",
       "  table, th, td {\n",
       "    border: 1px solid black;\n",
       "    border-collapse: collapse;\n",
       "  }\n",
       "  th, td {\n",
       "    padding: 5px;\n",
       "  }\n",
       "  th {\n",
       "    text-align: left;\n",
       "  }\n",
       "</style><div class='table-result-container'><table class='table-result'><thead style='background-color: white'><tr><th>Product Name</th><th>sum_mrp</th></tr></thead><tbody><tr><td>APPLE iPhone 12 Pro Max (Graphite, 128 GB)</td><td>129900</td></tr><tr><td>APPLE iPhone 12 Pro Max (Pacific Blue, 256 GB)</td><td>139900</td></tr><tr><td>APPLE iPhone 12 Pro Max (Pacific Blue, 128 GB)</td><td>129900</td></tr><tr><td>APPLE iPhone 12 (Red, 128 GB)</td><td>84900</td></tr><tr><td>APPLE iPhone 11 Pro Max (Midnight Green, 64 GB)</td><td>117100</td></tr><tr><td>APPLE iPhone 12 Pro Max (Graphite, 256 GB)</td><td>139900</td></tr><tr><td>APPLE iPhone XS Max (Silver, 64 GB)</td><td>89900</td></tr><tr><td>APPLE iPhone 11 Pro (Space Grey, 512 GB)</td><td>140300</td></tr><tr><td>APPLE iPhone 12 Pro (Pacific Blue, 128 GB)</td><td>119900</td></tr><tr><td>APPLE iPhone 12 Pro (Graphite, 128 GB)</td><td>119900</td></tr><tr><td>APPLE iPhone 12 Pro (Graphite, 256 GB)</td><td>129900</td></tr><tr><td>APPLE iPhone 12 (White, 128 GB)</td><td>84900</td></tr><tr><td>APPLE iPhone 11 Pro Max (Space Grey, 64 GB)</td><td>117100</td></tr><tr><td>APPLE iPhone 12 Pro Max (Gold, 256 GB)</td><td>139900</td></tr><tr><td>APPLE iPhone 11 Pro (Midnight Green, 64 GB)</td><td>106600</td></tr><tr><td>APPLE iPhone 12 Pro Max (Silver, 256 GB)</td><td>139900</td></tr><tr><td>APPLE iPhone 12 (Black, 128 GB)</td><td>84900</td></tr><tr><td>APPLE iPhone 11 Pro (Space Grey, 256 GB)</td><td>121300</td></tr><tr><td>APPLE iPhone 12 (Green, 128 GB)</td><td>84900</td></tr><tr><td>APPLE iPhone 11 Pro Max (Gold, 256 GB)</td><td>131900</td></tr><tr><td>APPLE iPhone 8 Plus (Silver, 256 GB)</td><td>84900</td></tr><tr><td>APPLE iPhone 11 Pro (Midnight Green, 512 GB)</td><td>140300</td></tr><tr><td>APPLE iPhone 12 Pro (Silver, 512 GB)</td><td>149900</td></tr><tr><td>APPLE iPhone 12 Pro Max (Silver, 128 GB)</td><td>129900</td></tr><tr><td>APPLE iPhone 8 Plus (Space Grey, 256 GB)</td><td>84900</td></tr><tr><td>APPLE iPhone 12 Pro (Pacific Blue, 512 GB)</td><td>149900</td></tr><tr><td>APPLE iPhone 11 Pro Max (Gold, 64 GB)</td><td>117100</td></tr><tr><td>APPLE iPhone 11 Pro Max (Midnight Green, 256 GB)</td><td>131900</td></tr><tr><td>APPLE iPhone 12 Pro Max (Gold, 128 GB)</td><td>129900</td></tr><tr><td>APPLE iPhone 12 (Blue, 128 GB)</td><td>84900</td></tr></tbody></table></div>"
      ]
     },
     "metadata": {
      "application/vnd.databricks.v1+output": {
       "addedWidgets": {},
       "aggData": [],
       "aggError": "",
       "aggOverflow": false,
       "aggSchema": [],
       "aggSeriesLimitReached": false,
       "aggType": "",
       "arguments": {},
       "columnCustomDisplayInfos": {},
       "data": [
        [
         "APPLE iPhone 12 Pro Max (Graphite, 128 GB)",
         129900
        ],
        [
         "APPLE iPhone 12 Pro Max (Pacific Blue, 256 GB)",
         139900
        ],
        [
         "APPLE iPhone 12 Pro Max (Pacific Blue, 128 GB)",
         129900
        ],
        [
         "APPLE iPhone 12 (Red, 128 GB)",
         84900
        ],
        [
         "APPLE iPhone 11 Pro Max (Midnight Green, 64 GB)",
         117100
        ],
        [
         "APPLE iPhone 12 Pro Max (Graphite, 256 GB)",
         139900
        ],
        [
         "APPLE iPhone XS Max (Silver, 64 GB)",
         89900
        ],
        [
         "APPLE iPhone 11 Pro (Space Grey, 512 GB)",
         140300
        ],
        [
         "APPLE iPhone 12 Pro (Pacific Blue, 128 GB)",
         119900
        ],
        [
         "APPLE iPhone 12 Pro (Graphite, 128 GB)",
         119900
        ],
        [
         "APPLE iPhone 12 Pro (Graphite, 256 GB)",
         129900
        ],
        [
         "APPLE iPhone 12 (White, 128 GB)",
         84900
        ],
        [
         "APPLE iPhone 11 Pro Max (Space Grey, 64 GB)",
         117100
        ],
        [
         "APPLE iPhone 12 Pro Max (Gold, 256 GB)",
         139900
        ],
        [
         "APPLE iPhone 11 Pro (Midnight Green, 64 GB)",
         106600
        ],
        [
         "APPLE iPhone 12 Pro Max (Silver, 256 GB)",
         139900
        ],
        [
         "APPLE iPhone 12 (Black, 128 GB)",
         84900
        ],
        [
         "APPLE iPhone 11 Pro (Space Grey, 256 GB)",
         121300
        ],
        [
         "APPLE iPhone 12 (Green, 128 GB)",
         84900
        ],
        [
         "APPLE iPhone 11 Pro Max (Gold, 256 GB)",
         131900
        ],
        [
         "APPLE iPhone 8 Plus (Silver, 256 GB)",
         84900
        ],
        [
         "APPLE iPhone 11 Pro (Midnight Green, 512 GB)",
         140300
        ],
        [
         "APPLE iPhone 12 Pro (Silver, 512 GB)",
         149900
        ],
        [
         "APPLE iPhone 12 Pro Max (Silver, 128 GB)",
         129900
        ],
        [
         "APPLE iPhone 8 Plus (Space Grey, 256 GB)",
         84900
        ],
        [
         "APPLE iPhone 12 Pro (Pacific Blue, 512 GB)",
         149900
        ],
        [
         "APPLE iPhone 11 Pro Max (Gold, 64 GB)",
         117100
        ],
        [
         "APPLE iPhone 11 Pro Max (Midnight Green, 256 GB)",
         131900
        ],
        [
         "APPLE iPhone 12 Pro Max (Gold, 128 GB)",
         129900
        ],
        [
         "APPLE iPhone 12 (Blue, 128 GB)",
         84900
        ]
       ],
       "datasetInfos": [],
       "dbfsResultPath": null,
       "isJsonSchema": true,
       "metadata": {},
       "overflow": false,
       "plotOptions": {
        "customPlotOptions": {},
        "displayType": "table",
        "pivotAggregation": null,
        "pivotColumns": null,
        "xColumns": null,
        "yColumns": null
       },
       "removedWidgets": [],
       "schema": [
        {
         "metadata": "{}",
         "name": "Product Name",
         "type": "\"string\""
        },
        {
         "metadata": "{}",
         "name": "sum_mrp",
         "type": "\"long\""
        }
       ],
       "type": "table"
      }
     },
     "output_type": "display_data"
    }
   ],
   "source": [
    "%sql\n",
    "\n",
    "SELECT `Product Name`, SUM(Mrp) AS sum_mrp \n",
    "FROM Apple \n",
    "GROUP BY `Product Name` \n",
    "HAVING sum_mrp > 80000\n",
    "\n"
   ]
  },
  {
   "cell_type": "code",
   "execution_count": 0,
   "metadata": {
    "application/vnd.databricks.v1+cell": {
     "cellMetadata": {
      "byteLimit": 2048000,
      "implicitDf": true,
      "rowLimit": 10000
     },
     "inputWidgets": {},
     "nuid": "2ab1ca50-6cf9-4741-b685-ccbc96add1b1",
     "showTitle": false,
     "title": ""
    }
   },
   "outputs": [
    {
     "output_type": "display_data",
     "data": {
      "text/html": [
       "<style scoped>\n",
       "  .table-result-container {\n",
       "    max-height: 300px;\n",
       "    overflow: auto;\n",
       "  }\n",
       "  table, th, td {\n",
       "    border: 1px solid black;\n",
       "    border-collapse: collapse;\n",
       "  }\n",
       "  th, td {\n",
       "    padding: 5px;\n",
       "  }\n",
       "  th {\n",
       "    text-align: left;\n",
       "  }\n",
       "</style><div class='table-result-container'><table class='table-result'><thead style='background-color: white'><tr><th>Product Name</th><th>sum_mrp</th></tr></thead><tbody><tr><td>APPLE iPhone 12 Pro (Silver, 512 GB)</td><td>149900</td></tr><tr><td>APPLE iPhone 12 Pro (Pacific Blue, 512 GB)</td><td>149900</td></tr><tr><td>APPLE iPhone 11 Pro (Space Grey, 512 GB)</td><td>140300</td></tr><tr><td>APPLE iPhone 11 Pro (Midnight Green, 512 GB)</td><td>140300</td></tr><tr><td>APPLE iPhone 12 Pro Max (Pacific Blue, 256 GB)</td><td>139900</td></tr><tr><td>APPLE iPhone 12 Pro Max (Graphite, 256 GB)</td><td>139900</td></tr><tr><td>APPLE iPhone 12 Pro Max (Gold, 256 GB)</td><td>139900</td></tr><tr><td>APPLE iPhone 12 Pro Max (Silver, 256 GB)</td><td>139900</td></tr><tr><td>APPLE iPhone 11 Pro Max (Gold, 256 GB)</td><td>131900</td></tr><tr><td>APPLE iPhone 11 Pro Max (Midnight Green, 256 GB)</td><td>131900</td></tr><tr><td>APPLE iPhone 12 Pro Max (Graphite, 128 GB)</td><td>129900</td></tr><tr><td>APPLE iPhone 12 Pro Max (Pacific Blue, 128 GB)</td><td>129900</td></tr><tr><td>APPLE iPhone 12 Pro (Graphite, 256 GB)</td><td>129900</td></tr><tr><td>APPLE iPhone 12 Pro Max (Silver, 128 GB)</td><td>129900</td></tr><tr><td>APPLE iPhone 12 Pro Max (Gold, 128 GB)</td><td>129900</td></tr><tr><td>APPLE iPhone 11 Pro (Space Grey, 256 GB)</td><td>121300</td></tr><tr><td>APPLE iPhone 12 Pro (Pacific Blue, 128 GB)</td><td>119900</td></tr><tr><td>APPLE iPhone 12 Pro (Graphite, 128 GB)</td><td>119900</td></tr><tr><td>APPLE iPhone 11 Pro Max (Midnight Green, 64 GB)</td><td>117100</td></tr><tr><td>APPLE iPhone 11 Pro Max (Space Grey, 64 GB)</td><td>117100</td></tr><tr><td>APPLE iPhone 11 Pro Max (Gold, 64 GB)</td><td>117100</td></tr><tr><td>APPLE iPhone 11 Pro (Midnight Green, 64 GB)</td><td>106600</td></tr><tr><td>APPLE iPhone XS Max (Silver, 64 GB)</td><td>89900</td></tr><tr><td>APPLE iPhone 12 (Red, 128 GB)</td><td>84900</td></tr><tr><td>APPLE iPhone 12 (White, 128 GB)</td><td>84900</td></tr><tr><td>APPLE iPhone 12 (Black, 128 GB)</td><td>84900</td></tr><tr><td>APPLE iPhone 12 (Green, 128 GB)</td><td>84900</td></tr><tr><td>APPLE iPhone 8 Plus (Silver, 256 GB)</td><td>84900</td></tr><tr><td>APPLE iPhone 8 Plus (Space Grey, 256 GB)</td><td>84900</td></tr><tr><td>APPLE iPhone 12 (Blue, 128 GB)</td><td>84900</td></tr></tbody></table></div>"
      ]
     },
     "metadata": {
      "application/vnd.databricks.v1+output": {
       "addedWidgets": {},
       "aggData": [],
       "aggError": "",
       "aggOverflow": false,
       "aggSchema": [],
       "aggSeriesLimitReached": false,
       "aggType": "",
       "arguments": {},
       "columnCustomDisplayInfos": {},
       "data": [
        [
         "APPLE iPhone 12 Pro (Silver, 512 GB)",
         149900
        ],
        [
         "APPLE iPhone 12 Pro (Pacific Blue, 512 GB)",
         149900
        ],
        [
         "APPLE iPhone 11 Pro (Space Grey, 512 GB)",
         140300
        ],
        [
         "APPLE iPhone 11 Pro (Midnight Green, 512 GB)",
         140300
        ],
        [
         "APPLE iPhone 12 Pro Max (Pacific Blue, 256 GB)",
         139900
        ],
        [
         "APPLE iPhone 12 Pro Max (Graphite, 256 GB)",
         139900
        ],
        [
         "APPLE iPhone 12 Pro Max (Gold, 256 GB)",
         139900
        ],
        [
         "APPLE iPhone 12 Pro Max (Silver, 256 GB)",
         139900
        ],
        [
         "APPLE iPhone 11 Pro Max (Gold, 256 GB)",
         131900
        ],
        [
         "APPLE iPhone 11 Pro Max (Midnight Green, 256 GB)",
         131900
        ],
        [
         "APPLE iPhone 12 Pro Max (Graphite, 128 GB)",
         129900
        ],
        [
         "APPLE iPhone 12 Pro Max (Pacific Blue, 128 GB)",
         129900
        ],
        [
         "APPLE iPhone 12 Pro (Graphite, 256 GB)",
         129900
        ],
        [
         "APPLE iPhone 12 Pro Max (Silver, 128 GB)",
         129900
        ],
        [
         "APPLE iPhone 12 Pro Max (Gold, 128 GB)",
         129900
        ],
        [
         "APPLE iPhone 11 Pro (Space Grey, 256 GB)",
         121300
        ],
        [
         "APPLE iPhone 12 Pro (Pacific Blue, 128 GB)",
         119900
        ],
        [
         "APPLE iPhone 12 Pro (Graphite, 128 GB)",
         119900
        ],
        [
         "APPLE iPhone 11 Pro Max (Midnight Green, 64 GB)",
         117100
        ],
        [
         "APPLE iPhone 11 Pro Max (Space Grey, 64 GB)",
         117100
        ],
        [
         "APPLE iPhone 11 Pro Max (Gold, 64 GB)",
         117100
        ],
        [
         "APPLE iPhone 11 Pro (Midnight Green, 64 GB)",
         106600
        ],
        [
         "APPLE iPhone XS Max (Silver, 64 GB)",
         89900
        ],
        [
         "APPLE iPhone 12 (Red, 128 GB)",
         84900
        ],
        [
         "APPLE iPhone 12 (White, 128 GB)",
         84900
        ],
        [
         "APPLE iPhone 12 (Black, 128 GB)",
         84900
        ],
        [
         "APPLE iPhone 12 (Green, 128 GB)",
         84900
        ],
        [
         "APPLE iPhone 8 Plus (Silver, 256 GB)",
         84900
        ],
        [
         "APPLE iPhone 8 Plus (Space Grey, 256 GB)",
         84900
        ],
        [
         "APPLE iPhone 12 (Blue, 128 GB)",
         84900
        ]
       ],
       "datasetInfos": [],
       "dbfsResultPath": null,
       "isJsonSchema": true,
       "metadata": {},
       "overflow": false,
       "plotOptions": {
        "customPlotOptions": {},
        "displayType": "table",
        "pivotAggregation": null,
        "pivotColumns": null,
        "xColumns": null,
        "yColumns": null
       },
       "removedWidgets": [],
       "schema": [
        {
         "metadata": "{}",
         "name": "Product Name",
         "type": "\"string\""
        },
        {
         "metadata": "{}",
         "name": "sum_mrp",
         "type": "\"long\""
        }
       ],
       "type": "table"
      }
     },
     "output_type": "display_data"
    }
   ],
   "source": [
    "%sql\n",
    "SELECT `Product Name`, SUM(Mrp) AS sum_mrp \n",
    "FROM Apple \n",
    "GROUP BY `Product Name` \n",
    "HAVING sum_mrp > 80000\n",
    "ORDER BY sum_mrp DESC\n"
   ]
  },
  {
   "cell_type": "code",
   "execution_count": 0,
   "metadata": {
    "application/vnd.databricks.v1+cell": {
     "cellMetadata": {
      "byteLimit": 2048000,
      "rowLimit": 10000
     },
     "inputWidgets": {},
     "nuid": "76e89b24-5d8b-4cae-af79-52024dbbd1c9",
     "showTitle": false,
     "title": ""
    }
   },
   "outputs": [
    {
     "output_type": "stream",
     "name": "stdout",
     "output_type": "stream",
     "text": [
      "+--------------------+--------------------+-----+----------+-----+-------------------+-----------------+-----------------+----------------+-----------+----+----------------+\n|        Product Name|         Product URL|Brand|Sale Price|  Mrp|Discount Percentage|Number Of Ratings|Number Of Reviews|             Upc|Star Rating| Ram|Discounted_Price|\n+--------------------+--------------------+-----+----------+-----+-------------------+-----------------+-----------------+----------------+-----------+----+----------------+\n|APPLE iPhone 8 Pl...|https://www.flipk...|Apple|     49900|49900|                  0|             3431|              356|MOBEXRGV7EHHTGUH|        4.6|2 GB|          4990.0|\n|APPLE iPhone 8 Pl...|https://www.flipk...|Apple|     84900|84900|                  0|             3431|              356|MOBEXRGVAC6TJT4F|        4.6|2 GB|          8490.0|\n|APPLE iPhone 8 Pl...|https://www.flipk...|Apple|     84900|84900|                  0|             3431|              356|MOBEXRGVGETABXWZ|        4.6|2 GB|          8490.0|\n|APPLE iPhone 8 (S...|https://www.flipk...|Apple|     77000|77000|                  0|            11202|              794|MOBEXRGVMZWUHCBA|        4.5|2 GB|          7700.0|\n|APPLE iPhone 8 (G...|https://www.flipk...|Apple|     77000|77000|                  0|            11202|              794|MOBEXRGVPK7PFEJZ|        4.5|2 GB|          7700.0|\n+--------------------+--------------------+-----+----------+-----+-------------------+-----------------+-----------------+----------------+-----------+----+----------------+\nonly showing top 5 rows\n\n"
     ]
    }
   ],
   "source": [
    "df.withColumn(\"Discounted_Price\",col(\"Mrp\")*0.1).show(5)"
   ]
  },
  {
   "cell_type": "code",
   "execution_count": 0,
   "metadata": {
    "application/vnd.databricks.v1+cell": {
     "cellMetadata": {
      "byteLimit": 2048000,
      "rowLimit": 10000
     },
     "inputWidgets": {},
     "nuid": "409190f8-8a19-40ea-8160-a328bdfcf19d",
     "showTitle": false,
     "title": ""
    }
   },
   "outputs": [
    {
     "output_type": "stream",
     "name": "stdout",
     "output_type": "stream",
     "text": [
      "+--------------------+-------+\n|        Product Name|sum_mrp|\n+--------------------+-------+\n|APPLE iPhone 12 P...| 129900|\n|APPLE iPhone 12 P...| 139900|\n|APPLE iPhone 12 P...| 129900|\n|APPLE iPhone 11 P...| 117100|\n|APPLE iPhone 12 P...| 139900|\n|APPLE iPhone 11 P...| 140300|\n+--------------------+-------+\nonly showing top 6 rows\n\n"
     ]
    }
   ],
   "source": [
    "spark.sql(\"\"\"SELECT \n",
    "                `Product Name`,\n",
    "                SUM(Mrp) sum_mrp\n",
    "          FROM Apple\n",
    "          GROUP BY `Product Name`\n",
    "          \"\"\").where(\"sum_mrp > 100000\").show(6)"
   ]
  },
  {
   "cell_type": "code",
   "execution_count": 0,
   "metadata": {
    "application/vnd.databricks.v1+cell": {
     "cellMetadata": {
      "byteLimit": 2048000,
      "rowLimit": 10000
     },
     "inputWidgets": {},
     "nuid": "da5f40ad-2e36-4fdb-80c6-3b0bb6ddecc0",
     "showTitle": false,
     "title": ""
    }
   },
   "outputs": [
    {
     "output_type": "stream",
     "name": "stdout",
     "output_type": "stream",
     "text": [
      "+--------------------+------+---------+---------+\n|        Product Name|   Mrp|dis_price|new_price|\n+--------------------+------+---------+---------+\n|APPLE iPhone 12 P...|149900|  14990.0| 134910.0|\n|APPLE iPhone 12 P...|149900|  14990.0| 134910.0|\n|APPLE iPhone 11 P...|140300|  14030.0| 126270.0|\n|APPLE iPhone 11 P...|140300|  14030.0| 126270.0|\n|APPLE iPhone 12 P...|139900|  13990.0| 125910.0|\n|APPLE iPhone 12 P...|139900|  13990.0| 125910.0|\n|APPLE iPhone 12 P...|139900|  13990.0| 125910.0|\n|APPLE iPhone 12 P...|139900|  13990.0| 125910.0|\n|APPLE iPhone 11 P...|131900|  13190.0| 118710.0|\n|APPLE iPhone 11 P...|131900|  13190.0| 118710.0|\n+--------------------+------+---------+---------+\nonly showing top 10 rows\n\n"
     ]
    }
   ],
   "source": [
    "df.withColumn(\"dis_price\", col(\"Mrp\") * 0.1).select(\"Product Name\",\"Mrp\", \"dis_price\")\\\n",
    ".withColumn(\"new_price\", col(\"Mrp\")-col(\"dis_price\"))\\\n",
    ".orderBy(col(\"new_price\").desc())\\\n",
    ".show(10)"
   ]
  },
  {
   "cell_type": "code",
   "execution_count": 0,
   "metadata": {
    "application/vnd.databricks.v1+cell": {
     "cellMetadata": {},
     "inputWidgets": {},
     "nuid": "ee59bdc7-b591-490f-bc70-6fb8849a4d97",
     "showTitle": false,
     "title": ""
    }
   },
   "outputs": [],
   "source": []
  }
 ],
 "metadata": {
  "application/vnd.databricks.v1+notebook": {
   "dashboards": [],
   "language": "python",
   "notebookMetadata": {
    "mostRecentlyExecutedCommandWithImplicitDF": {
     "commandId": 2094552884370251,
     "dataframes": [
      "_sqldf"
     ]
    },
    "pythonIndentUnit": 4
   },
   "notebookName": "Iphone data analysis",
   "widgets": {}
  }
 },
 "nbformat": 4,
 "nbformat_minor": 0
}
